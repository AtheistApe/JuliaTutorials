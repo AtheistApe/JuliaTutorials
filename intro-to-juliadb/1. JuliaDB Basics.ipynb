{
 "cells": [
  {
   "cell_type": "markdown",
   "metadata": {},
   "source": [
    "# What is JuliaDB?\n",
    "\n",
    "We recognized the need for an all-Julia, end-to-end tool that can\n",
    "\n",
    "- **Load multi-dimensional datasets quickly and incrementally.**\n",
    "- **Index the data and perform filter, aggregate, sort and join operations.**\n",
    "- **Save results and load them efficiently later.**\n",
    "- **Use Julia's built-in parallelism to fully utilize any machine or cluster.**\n",
    "\n",
    "We built JuliaDB to fill this void."
   ]
  },
  {
   "cell_type": "markdown",
   "metadata": {},
   "source": [
    "# Sales Pitch\n",
    "\n",
    "- Be fast\n",
    "- Work with multi-file datasets\n",
    "- Handles heavy lifting of distributed computing\n",
    "- Batteries included\n",
    "- **No glue code**\n",
    "\n",
    "![](languages.png)"
   ]
  },
  {
   "cell_type": "code",
   "execution_count": 2,
   "metadata": {},
   "outputs": [],
   "source": [
    "using JuliaDB"
   ]
  },
  {
   "cell_type": "markdown",
   "metadata": {},
   "source": [
    "# Data Structures\n",
    "\n",
    "- `table`\n",
    "- `ndsparse`\n",
    "- Distributed versions are also available"
   ]
  },
  {
   "cell_type": "code",
   "execution_count": 3,
   "metadata": {},
   "outputs": [],
   "source": [
    "x = rand(Bool, 10)\n",
    "y = rand('a':'b', 10)\n",
    "z = randn(10);"
   ]
  },
  {
   "cell_type": "markdown",
   "metadata": {},
   "source": [
    "## `table` vs. `ndsparse`"
   ]
  },
  {
   "cell_type": "code",
   "execution_count": 4,
   "metadata": {},
   "outputs": [
    {
     "data": {
      "text/plain": [
       "Table with 10 rows, 3 columns:\n",
       "\u001b[1mx     \u001b[22m\u001b[1my    \u001b[22mz\n",
       "────────────────────\n",
       "true  'a'  -0.775464\n",
       "true  'a'  -0.631119\n",
       "true  'a'  -1.46226\n",
       "true  'a'  -0.330762\n",
       "true  'a'  0.288622\n",
       "true  'b'  0.333483\n",
       "true  'b'  2.73925\n",
       "true  'b'  0.411718\n",
       "true  'b'  -1.24639\n",
       "true  'b'  0.927941"
      ]
     },
     "execution_count": 4,
     "metadata": {},
     "output_type": "execute_result"
    }
   ],
   "source": [
    "t = table(@NT(x=x, y=y, z=z); pkey = [:x, :y])"
   ]
  },
  {
   "cell_type": "code",
   "execution_count": 5,
   "metadata": {},
   "outputs": [
    {
     "data": {
      "text/plain": [
       "2-d NDSparse with 10 values (Float64):\n",
       "x     y   │\n",
       "──────────┼──────────\n",
       "true  'a' │ -0.775464\n",
       "true  'a' │ -0.631119\n",
       "true  'a' │ -1.46226\n",
       "true  'a' │ -0.330762\n",
       "true  'a' │ 0.288622\n",
       "true  'b' │ 0.333483\n",
       "true  'b' │ 2.73925\n",
       "true  'b' │ 0.411718\n",
       "true  'b' │ -1.24639\n",
       "true  'b' │ 0.927941"
      ]
     },
     "execution_count": 5,
     "metadata": {},
     "output_type": "execute_result"
    }
   ],
   "source": [
    "nd = ndsparse(@NT(x=x, y=y), z)"
   ]
  },
  {
   "cell_type": "code",
   "execution_count": 8,
   "metadata": {},
   "outputs": [
    {
     "data": {
      "text/plain": [
       "(x = true, y = 'a', z = -0.7754640116187353)"
      ]
     },
     "execution_count": 8,
     "metadata": {},
     "output_type": "execute_result"
    }
   ],
   "source": [
    "t[1]"
   ]
  },
  {
   "cell_type": "code",
   "execution_count": 68,
   "metadata": {},
   "outputs": [
    {
     "data": {
      "text/plain": [
       "-0.4232329675776797"
      ]
     },
     "execution_count": 68,
     "metadata": {},
     "output_type": "execute_result"
    }
   ],
   "source": [
    "nd[false, 'a']"
   ]
  },
  {
   "cell_type": "markdown",
   "metadata": {},
   "source": [
    "# Loading Data"
   ]
  },
  {
   "cell_type": "code",
   "execution_count": 9,
   "metadata": {},
   "outputs": [
    {
     "data": {
      "text/plain": [
       "Table with 56023 rows, 7 columns:\n",
       "Date        Open     High     Low      Close    Volume    OpenInt\n",
       "─────────────────────────────────────────────────────────────────\n",
       "1984-09-07  0.42388  0.42902  0.41874  0.42388  23220030  0\n",
       "1984-09-10  0.42388  0.42516  0.41366  0.42134  18022532  0\n",
       "1984-09-11  0.42516  0.43668  0.42516  0.42902  42498199  0\n",
       "1984-09-12  0.42902  0.43157  0.41618  0.41618  37125801  0\n",
       "1984-09-13  0.43927  0.44052  0.43927  0.43927  57822062  0\n",
       "1984-09-14  0.44052  0.45589  0.44052  0.44566  68847968  0\n",
       "1984-09-17  0.45718  0.46357  0.45718  0.45718  53755262  0\n",
       "1984-09-18  0.45718  0.46103  0.44052  0.44052  27136886  0\n",
       "1984-09-19  0.44052  0.44566  0.43157  0.43157  29641922  0\n",
       "1984-09-20  0.43286  0.43668  0.43286  0.43286  18453585  0\n",
       "1984-09-21  0.43286  0.44566  0.42388  0.42902  27842780  0\n",
       "1984-09-24  0.42902  0.43157  0.42516  0.42516  22033109  0\n",
       "⋮\n",
       "2017-10-27  319.75   324.59   316.66   320.87   6970118   0\n",
       "2017-10-30  319.18   323.78   317.25   320.08   4254378   0\n",
       "2017-10-31  320.23   331.95   320.18   331.53   5672347   0\n",
       "2017-11-01  332.25   332.609  320.26   321.08   8457336   0\n",
       "2017-11-02  300.13   308.69   292.63   299.26   19791416  0\n",
       "2017-11-03  299.5    306.25   295.13   306.09   8893974   0\n",
       "2017-11-06  307.0    307.5    299.01   302.78   6482486   0\n",
       "2017-11-07  301.02   306.5    300.03   306.05   5286320   0\n",
       "2017-11-08  305.5    306.89   301.3    304.31   4725510   0\n",
       "2017-11-09  302.5    304.46   296.3    302.99   5440335   0\n",
       "2017-11-10  302.5    308.36   301.85   302.99   4621912   0"
      ]
     },
     "execution_count": 9,
     "metadata": {},
     "output_type": "execute_result"
    }
   ],
   "source": [
    "loadtable(\"stocksample\")"
   ]
  },
  {
   "cell_type": "markdown",
   "metadata": {},
   "source": [
    "# Saving Data"
   ]
  }
 ],
 "metadata": {
  "kernelspec": {
   "display_name": "Julia 0.6.2-pre",
   "language": "julia",
   "name": "julia-0.6"
  },
  "language_info": {
   "file_extension": ".jl",
   "mimetype": "application/julia",
   "name": "julia",
   "version": "0.6.2"
  }
 },
 "nbformat": 4,
 "nbformat_minor": 2
}
