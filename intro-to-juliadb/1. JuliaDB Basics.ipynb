{
 "cells": [
  {
   "cell_type": "markdown",
   "metadata": {},
   "source": [
    "# What is JuliaDB?\n",
    "\n",
    "We recognized the need for an all-Julia, end-to-end tool that can\n",
    "\n",
    "- **Load multi-dimensional datasets quickly and incrementally.**\n",
    "- **Index the data and perform filter, aggregate, sort and join operations.**\n",
    "- **Save results and load them efficiently later.**\n",
    "- **Use Julia's built-in parallelism to fully utilize any machine or cluster.**\n",
    "\n",
    "We built JuliaDB to fill this void."
   ]
  },
  {
   "cell_type": "code",
   "execution_count": 1,
   "metadata": {},
   "outputs": [
    {
     "name": "stderr",
     "output_type": "stream",
     "text": [
      "\u001b[1m\u001b[36mINFO: \u001b[39m\u001b[22m\u001b[36mRecompiling stale cache file /Users/joshday/.julia/lib/v0.6/OnlineStats.ji for module OnlineStats.\n",
      "\u001b[39m\u001b[1m\u001b[36mINFO: \u001b[39m\u001b[22m\u001b[36mRecompiling stale cache file /Users/joshday/.julia/lib/v0.6/JuliaDB.ji for module JuliaDB.\n",
      "\u001b[39m"
     ]
    }
   ],
   "source": [
    "using JuliaDB"
   ]
  },
  {
   "cell_type": "markdown",
   "metadata": {},
   "source": [
    "# Data Structures\n",
    "\n",
    "- `table`\n",
    "- `ndsparse`"
   ]
  },
  {
   "cell_type": "code",
   "execution_count": 63,
   "metadata": {},
   "outputs": [],
   "source": [
    "x, y, z = rand(Bool, 10), rand('a':'b', 10), randn(10);"
   ]
  },
  {
   "cell_type": "markdown",
   "metadata": {},
   "source": [
    "## `table` vs. `ndsparse`"
   ]
  },
  {
   "cell_type": "code",
   "execution_count": 64,
   "metadata": {},
   "outputs": [
    {
     "data": {
      "text/plain": [
       "Table with 10 rows, 3 columns:\n",
       "\u001b[1mx      \u001b[22m\u001b[1my    \u001b[22mz\n",
       "──────────────────────\n",
       "false  'a'  -0.423233\n",
       "false  'b'  -1.61002\n",
       "false  'b'  0.495276\n",
       "false  'b'  -0.0634881\n",
       "false  'b'  -1.17179\n",
       "false  'b'  0.0487355\n",
       "true   'a'  0.847466\n",
       "true   'a'  -0.0294196\n",
       "true   'b'  2.08068\n",
       "true   'b'  -0.172854"
      ]
     },
     "execution_count": 64,
     "metadata": {},
     "output_type": "execute_result"
    }
   ],
   "source": [
    "t = table(@NT(x=x, y=y, z=z); pkey = [:x, :y])"
   ]
  },
  {
   "cell_type": "code",
   "execution_count": 65,
   "metadata": {},
   "outputs": [
    {
     "data": {
      "text/plain": [
       "2-d NDSparse with 10 values (Float64):\n",
       "x      y   │\n",
       "───────────┼───────────\n",
       "false  'a' │ -0.423233\n",
       "false  'b' │ -1.61002\n",
       "false  'b' │ 0.495276\n",
       "false  'b' │ -0.0634881\n",
       "false  'b' │ -1.17179\n",
       "false  'b' │ 0.0487355\n",
       "true   'a' │ 0.847466\n",
       "true   'a' │ -0.0294196\n",
       "true   'b' │ 2.08068\n",
       "true   'b' │ -0.172854"
      ]
     },
     "execution_count": 65,
     "metadata": {},
     "output_type": "execute_result"
    }
   ],
   "source": [
    "nd = ndsparse(@NT(x=x, y=y), z)"
   ]
  },
  {
   "cell_type": "code",
   "execution_count": 66,
   "metadata": {},
   "outputs": [
    {
     "data": {
      "text/plain": [
       "(x = false, y = 'a', z = -0.4232329675776797)"
      ]
     },
     "execution_count": 66,
     "metadata": {},
     "output_type": "execute_result"
    }
   ],
   "source": [
    "t[1]"
   ]
  },
  {
   "cell_type": "code",
   "execution_count": 68,
   "metadata": {},
   "outputs": [
    {
     "data": {
      "text/plain": [
       "-0.4232329675776797"
      ]
     },
     "execution_count": 68,
     "metadata": {},
     "output_type": "execute_result"
    }
   ],
   "source": [
    "nd[false, 'a']"
   ]
  }
 ],
 "metadata": {
  "kernelspec": {
   "display_name": "Julia 0.6.2-pre",
   "language": "julia",
   "name": "julia-0.6"
  },
  "language_info": {
   "file_extension": ".jl",
   "mimetype": "application/julia",
   "name": "julia",
   "version": "0.6.2"
  }
 },
 "nbformat": 4,
 "nbformat_minor": 2
}
