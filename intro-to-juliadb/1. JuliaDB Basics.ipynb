{
 "cells": [
  {
   "cell_type": "markdown",
   "metadata": {},
   "source": [
    "![](https://juliacomputing.com/assets/img/new/JuliaDB_logo2.svg)\n",
    "\n",
    "# Intro to JuliaDB\n",
    "\n",
    "JuliaDB is an analytical database.  Among its highlights are its abilities to\n",
    "\n",
    "- **Load multi-file datasets**\n",
    "- **Index the data and perform filter, aggregate, sort and join operations**\n",
    "- **Compile queries**\n",
    "- **Store any data type**\n",
    "- **Save results and load them efficiently later**\n",
    "- **Use Julia's built-in parallelism to fully utilize any machine or cluster**\n",
    "- **Integrate with OnlineStats for analytics**\n",
    "\n",
    "# Helpful links\n",
    "\n",
    "For additional documentation, please refer to\n",
    "\n",
    "- [JuliaDB API Reference](http://juliadb.org/latest/api/index.html)\n",
    "- [OnlineStats Docs](http://joshday.github.io/OnlineStats.jl/stable/)\n",
    "\n",
    "# Let's Get Started\n",
    "\n",
    "In this notebook, we'll introduce you to JuliaDB's two main data structures, `Table` and `NDSparse` while\n",
    "\n",
    "1. Creating tables from Julia Vectors\n",
    "1. Accessing data from `Table` and `NDSparse`\n",
    "1. Loading tables from CSVs\n",
    "1. Saving tables into binary format\n",
    "1. Reloading a saved table\n",
    "1. Leveraging selectors\n",
    "\n",
    "The first time you work with JuliaDB (off JuliaBox),  you'll want to run `Pkg.add(\"JuliaDB\")`.\n",
    "\n",
    "For today, we can get started by loading JuliaDB via"
   ]
  },
  {
   "cell_type": "code",
   "execution_count": 1,
   "metadata": {},
   "outputs": [],
   "source": [
    "using JuliaDB"
   ]
  },
  {
   "cell_type": "markdown",
   "metadata": {},
   "source": [
    "# Creating tables from Julia Vectors\n",
    "\n",
    "In this section, we'll use Julia Vectors to generate JuliaDB's two main data structures,\n",
    "\n",
    "- `Table`\n",
    "- `NDSparse`\n",
    "\n",
    "Performance is similar between `Table` and `NDSparse`, so we'll discuss how to choose which one.\n",
    "\n",
    "Let's create some vectors `x`, `y`, and `z` that we can use to generate `Table` and `NDSparse` data structures."
   ]
  },
  {
   "cell_type": "code",
   "execution_count": 2,
   "metadata": {},
   "outputs": [],
   "source": [
    "x = [false, true, false, true]\n",
    "y = ['B', 'B', 'A', 'A']\n",
    "z = randn(4);"
   ]
  },
  {
   "cell_type": "markdown",
   "metadata": {},
   "source": [
    "### `Table`: sorted by primary key(s)\n",
    "\n",
    "We can create a table in JuliaDB using the `table` function"
   ]
  },
  {
   "cell_type": "code",
   "execution_count": 3,
   "metadata": {},
   "outputs": [
    {
     "data": {
      "text/plain": [
       "Table with 4 rows, 3 columns:\n",
       "1      2    3\n",
       "─────────────────────\n",
       "false  'B'  1.56161\n",
       "true   'B'  -0.228114\n",
       "false  'A'  0.304639\n",
       "true   'A'  -1.61879"
      ]
     },
     "execution_count": 3,
     "metadata": {},
     "output_type": "execute_result"
    }
   ],
   "source": [
    "t1 = table(x, y, z)"
   ]
  },
  {
   "cell_type": "markdown",
   "metadata": {},
   "source": [
    "Here the vectors `x`, `y`, and `z` became columns of the output table. By default, these columns are numbered `1`, `2`, and `3`. \n",
    "\n",
    "We can use the keyword argument `names` to label the columns."
   ]
  },
  {
   "cell_type": "code",
   "execution_count": 4,
   "metadata": {},
   "outputs": [
    {
     "data": {
      "text/plain": [
       "Table with 4 rows, 3 columns:\n",
       "x      y    z\n",
       "─────────────────────\n",
       "false  'B'  1.56161\n",
       "true   'B'  -0.228114\n",
       "false  'A'  0.304639\n",
       "true   'A'  -1.61879"
      ]
     },
     "execution_count": 4,
     "metadata": {},
     "output_type": "execute_result"
    }
   ],
   "source": [
    "t2 = table(x,  y, z, names = [:x, :y, :z])"
   ]
  },
  {
   "cell_type": "markdown",
   "metadata": {},
   "source": [
    "Furthermore, we can **sort** a table using the keyword argument `pkey`. `pkey` specifies the primary keys by which the output table will be sorted."
   ]
  },
  {
   "cell_type": "code",
   "execution_count": 5,
   "metadata": {},
   "outputs": [
    {
     "data": {
      "text/plain": [
       "Table with 4 rows, 3 columns:\n",
       "\u001b[1mx      \u001b[22m\u001b[1my    \u001b[22mz\n",
       "─────────────────────\n",
       "false  'A'  0.304639\n",
       "false  'B'  1.56161\n",
       "true   'A'  -1.61879\n",
       "true   'B'  -0.228114"
      ]
     },
     "execution_count": 5,
     "metadata": {},
     "output_type": "execute_result"
    }
   ],
   "source": [
    "t3 = table(x, y, z, names = [:x, :y, :z], pkey=(:x, :y))"
   ]
  },
  {
   "cell_type": "markdown",
   "metadata": {},
   "source": [
    "In this example, the rows of `t3` are sorted first by the values in column x and second by the values in column y.\n",
    "\n",
    "In this next example, `t4` is sorted by the values in column z."
   ]
  },
  {
   "cell_type": "code",
   "execution_count": 6,
   "metadata": {},
   "outputs": [
    {
     "data": {
      "text/plain": [
       "Table with 4 rows, 3 columns:\n",
       "x      y    \u001b[1mz\u001b[22m\n",
       "─────────────────────\n",
       "true   'A'  -1.61879\n",
       "true   'B'  -0.228114\n",
       "false  'A'  0.304639\n",
       "false  'B'  1.56161"
      ]
     },
     "execution_count": 6,
     "metadata": {},
     "output_type": "execute_result"
    }
   ],
   "source": [
    "t4 = table(x, y, z, names = [:x, :y, :z], pkey=:z)"
   ]
  },
  {
   "cell_type": "markdown",
   "metadata": {},
   "source": [
    "We can also build a `table` from a **\"named tuple\"**.\n",
    "\n",
    "In regular tuples, we can grab the entries of a tuple by indexing"
   ]
  },
  {
   "cell_type": "code",
   "execution_count": 7,
   "metadata": {},
   "outputs": [
    {
     "data": {
      "text/plain": [
       "\"Josh\""
      ]
     },
     "execution_count": 7,
     "metadata": {},
     "output_type": "execute_result"
    }
   ],
   "source": [
    "tuple1 = (\"Josh\", \"Day\")\n",
    "tuple1[1]"
   ]
  },
  {
   "cell_type": "markdown",
   "metadata": {},
   "source": [
    "We can create a named tuple using the `@NT` command. We now have the option to bind the elements of our tuple to names that we can use to access those elements."
   ]
  },
  {
   "cell_type": "code",
   "execution_count": 8,
   "metadata": {},
   "outputs": [
    {
     "data": {
      "text/plain": [
       "(firstname = \"Josh\", lastname = \"Day\")"
      ]
     },
     "execution_count": 8,
     "metadata": {},
     "output_type": "execute_result"
    }
   ],
   "source": [
    "tuple2 = @NT(firstname = \"Josh\", lastname = \"Day\")"
   ]
  },
  {
   "cell_type": "markdown",
   "metadata": {},
   "source": [
    "In `tuple2`, the first element, \"Josh\", is now named \"firstname\". We can now use this name to access \"Josh\"."
   ]
  },
  {
   "cell_type": "code",
   "execution_count": 9,
   "metadata": {},
   "outputs": [
    {
     "data": {
      "text/plain": [
       "\"Josh\""
      ]
     },
     "execution_count": 9,
     "metadata": {},
     "output_type": "execute_result"
    }
   ],
   "source": [
    "tuple2.firstname"
   ]
  },
  {
   "cell_type": "code",
   "execution_count": 10,
   "metadata": {},
   "outputs": [
    {
     "data": {
      "text/plain": [
       "\"Josh\""
      ]
     },
     "execution_count": 10,
     "metadata": {},
     "output_type": "execute_result"
    }
   ],
   "source": [
    "tuple2[:firstname]"
   ]
  },
  {
   "cell_type": "markdown",
   "metadata": {},
   "source": [
    "If we use a named tuple to create a `table` from the vectors `x`, `y`, and `z`, we don't need to explicitly name the columns of the resulting table with the `names` keyword argument:"
   ]
  },
  {
   "cell_type": "code",
   "execution_count": 11,
   "metadata": {},
   "outputs": [
    {
     "data": {
      "text/plain": [
       "Table with 4 rows, 3 columns:\n",
       "\u001b[1mx      \u001b[22m\u001b[1my    \u001b[22mz\n",
       "─────────────────────\n",
       "false  'A'  0.304639\n",
       "false  'B'  1.56161\n",
       "true   'A'  -1.61879\n",
       "true   'B'  -0.228114"
      ]
     },
     "execution_count": 11,
     "metadata": {},
     "output_type": "execute_result"
    }
   ],
   "source": [
    "t5 = table(@NT(x=x, y=y, z=z), pkey = [:x, :y])"
   ]
  },
  {
   "cell_type": "markdown",
   "metadata": {},
   "source": [
    "### `NDSparse`: N-dimensional Sparse Array\n",
    "\n",
    "The function `ndsparse` can be used to create a `NDSparse` object, which is designed to store data values that are sparse over the domain of index values.\n",
    "\n",
    "Like `Table`s, `NDSparse` objects can be created with or without the use of named tuples."
   ]
  },
  {
   "cell_type": "code",
   "execution_count": 12,
   "metadata": {},
   "outputs": [
    {
     "data": {
      "text/plain": [
       "2-d NDSparse with 4 values (Float64):\n",
       "1      2   │\n",
       "───────────┼──────────\n",
       "false  'A' │ 0.304639\n",
       "false  'B' │ 1.56161\n",
       "true   'A' │ -1.61879\n",
       "true   'B' │ -0.228114"
      ]
     },
     "execution_count": 12,
     "metadata": {},
     "output_type": "execute_result"
    }
   ],
   "source": [
    "nd1 = ndsparse((x, y), z)"
   ]
  },
  {
   "cell_type": "markdown",
   "metadata": {},
   "source": [
    "NDSparse maps tuples of indices of arbitrary types to values, just like an Array maps tuples of integer indices to values. \n",
    "\n",
    "In `nd1` and `nd2`, the indices are shown to the left of the vertical line, while the values they map to are to the right."
   ]
  },
  {
   "cell_type": "code",
   "execution_count": 13,
   "metadata": {},
   "outputs": [
    {
     "data": {
      "text/plain": [
       "2-d NDSparse with 4 values (1 field named tuples):\n",
       "x      y   │ z\n",
       "───────────┼──────────\n",
       "false  'A' │ 0.304639\n",
       "false  'B' │ 1.56161\n",
       "true   'A' │ -1.61879\n",
       "true   'B' │ -0.228114"
      ]
     },
     "execution_count": 13,
     "metadata": {},
     "output_type": "execute_result"
    }
   ],
   "source": [
    "nd2 = ndsparse(@NT(x=x, y=y), @NT(z=z))"
   ]
  },
  {
   "cell_type": "markdown",
   "metadata": {},
   "source": [
    "# Accessing data from `Table` and `NDSparse`\n",
    "\n",
    "In the last section, we created the `Table`, `t3`:"
   ]
  },
  {
   "cell_type": "code",
   "execution_count": 14,
   "metadata": {},
   "outputs": [
    {
     "data": {
      "text/plain": [
       "Table with 4 rows, 3 columns:\n",
       "\u001b[1mx      \u001b[22m\u001b[1my    \u001b[22mz\n",
       "─────────────────────\n",
       "false  'A'  0.304639\n",
       "false  'B'  1.56161\n",
       "true   'A'  -1.61879\n",
       "true   'B'  -0.228114"
      ]
     },
     "execution_count": 14,
     "metadata": {},
     "output_type": "execute_result"
    }
   ],
   "source": [
    "t3"
   ]
  },
  {
   "cell_type": "markdown",
   "metadata": {},
   "source": [
    "We can grab the first row of `t3` by indexing into `t3`"
   ]
  },
  {
   "cell_type": "code",
   "execution_count": 15,
   "metadata": {},
   "outputs": [
    {
     "data": {
      "text/plain": [
       "(x = false, y = 'A', z = 0.3046387127952048)"
      ]
     },
     "execution_count": 15,
     "metadata": {},
     "output_type": "execute_result"
    }
   ],
   "source": [
    "t3[1]"
   ]
  },
  {
   "cell_type": "markdown",
   "metadata": {},
   "source": [
    "and we can grab any of the elements in that row using the name of the associated columns"
   ]
  },
  {
   "cell_type": "code",
   "execution_count": 16,
   "metadata": {},
   "outputs": [
    {
     "data": {
      "text/plain": [
       "0.3046387127952048"
      ]
     },
     "execution_count": 16,
     "metadata": {},
     "output_type": "execute_result"
    }
   ],
   "source": [
    "t3[1].z"
   ]
  },
  {
   "cell_type": "markdown",
   "metadata": {},
   "source": [
    "The syntax for performing a lookup in a `NDSparse` object is slightly different.\n",
    "\n",
    "For example, if we want to look up all the rows of `nd` where `x` is `false`, we would write"
   ]
  },
  {
   "cell_type": "code",
   "execution_count": 17,
   "metadata": {},
   "outputs": [
    {
     "data": {
      "text/plain": [
       "1-d NDSparse with 2 values (1 field named tuples):\n",
       "y   │ z\n",
       "────┼─────────\n",
       "'A' │ 0.304639\n",
       "'B' │ 1.56161"
      ]
     },
     "execution_count": 17,
     "metadata": {},
     "output_type": "execute_result"
    }
   ],
   "source": [
    "nd2[false, :]"
   ]
  },
  {
   "cell_type": "markdown",
   "metadata": {},
   "source": [
    "If we want to look up the rows of `nd` where x is `false` and `y` is `A`, we would write"
   ]
  },
  {
   "cell_type": "code",
   "execution_count": 18,
   "metadata": {},
   "outputs": [
    {
     "data": {
      "text/plain": [
       "(z = 0.3046387127952048)"
      ]
     },
     "execution_count": 18,
     "metadata": {},
     "output_type": "execute_result"
    }
   ],
   "source": [
    "nd2[false, 'A']"
   ]
  },
  {
   "cell_type": "markdown",
   "metadata": {},
   "source": [
    "and we can grab the value of `z` associated with this entry via"
   ]
  },
  {
   "cell_type": "code",
   "execution_count": 19,
   "metadata": {},
   "outputs": [
    {
     "data": {
      "text/plain": [
       "0.3046387127952048"
      ]
     },
     "execution_count": 19,
     "metadata": {},
     "output_type": "execute_result"
    }
   ],
   "source": [
    "nd2[false, 'A'].z"
   ]
  },
  {
   "cell_type": "markdown",
   "metadata": {},
   "source": [
    "The entries in a `Table` are the rows of that table, whereas the entries in a `NDSparse` are the values to which the indices in `NDSparse` map. \n",
    "\n",
    "Note the differences in the next two examples"
   ]
  },
  {
   "cell_type": "code",
   "execution_count": 20,
   "metadata": {},
   "outputs": [
    {
     "name": "stdout",
     "output_type": "stream",
     "text": [
      "(x = false, y = 'A', z = 0.3046387127952048)\n",
      "(x = false, y = 'B', z = 1.561606495251595)\n",
      "(x = true, y = 'A', z = -1.618791109249178)\n",
      "(x = true, y = 'B', z = -0.22811446805049151)\n"
     ]
    }
   ],
   "source": [
    "# Table: iterate over NamedTuples of rows\n",
    "for row in t3\n",
    "    println(row)\n",
    "end"
   ]
  },
  {
   "cell_type": "code",
   "execution_count": 21,
   "metadata": {},
   "outputs": [
    {
     "name": "stdout",
     "output_type": "stream",
     "text": [
      "(z = 0.3046387127952048)\n",
      "(z = 1.561606495251595)\n",
      "(z = -1.618791109249178)\n",
      "(z = -0.22811446805049151)\n"
     ]
    }
   ],
   "source": [
    "# NDSparse: iterate over NamedTuples of values\n",
    "for item in nd2\n",
    "    println(item)\n",
    "end"
   ]
  },
  {
   "cell_type": "markdown",
   "metadata": {},
   "source": [
    "# Loading tables from CSVs\n",
    "\n",
    "In the next example, we'll load data from a CSV file into a table.\n",
    "\n",
    "TO do this, we'll work with 8 different stocks' OHLC data up to November 2017.\n",
    "\n",
    "We can start by looking at all the available files in our current directory. To do this, we can type `;ls` where `;` allows us to execute shell commands from within a jupyter notebook or Julia REPL."
   ]
  },
  {
   "cell_type": "code",
   "execution_count": 22,
   "metadata": {},
   "outputs": [
    {
     "name": "stdout",
     "output_type": "stream",
     "text": [
      "1. JuliaDB Basics.ipynb\n",
      "2. Table Usage.ipynb\n",
      "3. NDSparse Usage.ipynb\n",
      "4. Distributed Data.ipynb\n",
      "5. OnlineStats Integration.ipynb\n",
      "diamonds.csv\n",
      "languages.png\n",
      "stocks\n",
      "stocksample\n"
     ]
    }
   ],
   "source": [
    ";ls"
   ]
  },
  {
   "cell_type": "markdown",
   "metadata": {},
   "source": [
    "The data we want are the files in the stocksample directory"
   ]
  },
  {
   "cell_type": "code",
   "execution_count": 23,
   "metadata": {},
   "outputs": [
    {
     "name": "stdout",
     "output_type": "stream",
     "text": [
      "aapl.us.txt\n",
      "amzn.us.txt\n",
      "dis.us.txt\n",
      "googl.us.txt\n",
      "ibm.us.txt\n",
      "msft.us.txt\n",
      "nflx.us.txt\n",
      "tsla.us.txt\n"
     ]
    }
   ],
   "source": [
    ";ls stocksample"
   ]
  },
  {
   "cell_type": "markdown",
   "metadata": {},
   "source": [
    "all of which have the same structure"
   ]
  },
  {
   "cell_type": "code",
   "execution_count": 24,
   "metadata": {},
   "outputs": [
    {
     "name": "stdout",
     "output_type": "stream",
     "text": [
      "Date,Open,High,Low,Close,Volume,OpenInt\r\n",
      "1984-09-07,0.42388,0.42902,0.41874,0.42388,23220030,0\r\n",
      "1984-09-10,0.42388,0.42516,0.41366,0.42134,18022532,0\r\n",
      "1984-09-11,0.42516,0.43668,0.42516,0.42902,42498199,0\r\n",
      "1984-09-12,0.42902,0.43157,0.41618,0.41618,37125801,0\r\n",
      "1984-09-13,0.43927,0.44052,0.43927,0.43927,57822062,0\r\n",
      "1984-09-14,0.44052,0.45589,0.44052,0.44566,68847968,0\r\n",
      "1984-09-17,0.45718,0.46357,0.45718,0.45718,53755262,0\r\n",
      "1984-09-18,0.45718,0.46103,0.44052,0.44052,27136886,0\r\n",
      "1984-09-19,0.44052,0.44566,0.43157,0.43157,29641922,0\r\n"
     ]
    }
   ],
   "source": [
    ";head stocksample/aapl.us.txt"
   ]
  },
  {
   "cell_type": "markdown",
   "metadata": {},
   "source": [
    "We can now use the `loadtable` function to load all files from the directory \"stocksample\" into one table"
   ]
  },
  {
   "cell_type": "code",
   "execution_count": 25,
   "metadata": {},
   "outputs": [
    {
     "data": {
      "text/plain": [
       "Table with 56023 rows, 7 columns:\n",
       "Date        Open     High     Low      Close    Volume    OpenInt\n",
       "─────────────────────────────────────────────────────────────────\n",
       "1984-09-07  0.42388  0.42902  0.41874  0.42388  23220030  0\n",
       "1984-09-10  0.42388  0.42516  0.41366  0.42134  18022532  0\n",
       "1984-09-11  0.42516  0.43668  0.42516  0.42902  42498199  0\n",
       "1984-09-12  0.42902  0.43157  0.41618  0.41618  37125801  0\n",
       "1984-09-13  0.43927  0.44052  0.43927  0.43927  57822062  0\n",
       "1984-09-14  0.44052  0.45589  0.44052  0.44566  68847968  0\n",
       "1984-09-17  0.45718  0.46357  0.45718  0.45718  53755262  0\n",
       "1984-09-18  0.45718  0.46103  0.44052  0.44052  27136886  0\n",
       "1984-09-19  0.44052  0.44566  0.43157  0.43157  29641922  0\n",
       "1984-09-20  0.43286  0.43668  0.43286  0.43286  18453585  0\n",
       "1984-09-21  0.43286  0.44566  0.42388  0.42902  27842780  0\n",
       "1984-09-24  0.42902  0.43157  0.42516  0.42516  22033109  0\n",
       "⋮\n",
       "2017-10-27  319.75   324.59   316.66   320.87   6970118   0\n",
       "2017-10-30  319.18   323.78   317.25   320.08   4254378   0\n",
       "2017-10-31  320.23   331.95   320.18   331.53   5672347   0\n",
       "2017-11-01  332.25   332.609  320.26   321.08   8457336   0\n",
       "2017-11-02  300.13   308.69   292.63   299.26   19791416  0\n",
       "2017-11-03  299.5    306.25   295.13   306.09   8893974   0\n",
       "2017-11-06  307.0    307.5    299.01   302.78   6482486   0\n",
       "2017-11-07  301.02   306.5    300.03   306.05   5286320   0\n",
       "2017-11-08  305.5    306.89   301.3    304.31   4725510   0\n",
       "2017-11-09  302.5    304.46   296.3    302.99   5440335   0\n",
       "2017-11-10  302.5    308.36   301.85   302.99   4621912   0"
      ]
     },
     "execution_count": 25,
     "metadata": {},
     "output_type": "execute_result"
    }
   ],
   "source": [
    "stocks = loadtable(\"stocksample\")"
   ]
  },
  {
   "cell_type": "markdown",
   "metadata": {},
   "source": [
    "Now all the data from all 8 files has been thrown into one table, but there's no way to sort by stock/by file.\n",
    "\n",
    "To do this, we could have created `stocks` adding a field for the file name called `Ticker` via"
   ]
  },
  {
   "cell_type": "code",
   "execution_count": 26,
   "metadata": {},
   "outputs": [
    {
     "data": {
      "text/plain": [
       "Table with 56023 rows, 8 columns:\n",
       "Columns:\n",
       "\u001b[1m#  \u001b[22m\u001b[1mcolname  \u001b[22m\u001b[1mtype\u001b[22m\n",
       "───────────────────\n",
       "1  Ticker   String\n",
       "2  Date     Date\n",
       "3  Open     Float64\n",
       "4  High     Float64\n",
       "5  Low      Float64\n",
       "6  Close    Float64\n",
       "7  Volume   Int64\n",
       "8  OpenInt  Int64"
      ]
     },
     "execution_count": 26,
     "metadata": {},
     "output_type": "execute_result"
    }
   ],
   "source": [
    "stocks = loadtable(\"stocksample\"; filenamecol = :Ticker)"
   ]
  },
  {
   "cell_type": "markdown",
   "metadata": {},
   "source": [
    "Furthermore, we can choose how data is sorted within our `Table` by specifying the keyword argument `indexcols`"
   ]
  },
  {
   "cell_type": "code",
   "execution_count": 27,
   "metadata": {},
   "outputs": [
    {
     "data": {
      "text/plain": [
       "Table with 56023 rows, 8 columns:\n",
       "Columns:\n",
       "\u001b[1m#  \u001b[22m\u001b[1mcolname  \u001b[22m\u001b[1mtype\u001b[22m\n",
       "───────────────────\n",
       "1  Ticker   String\n",
       "2  Date     Date\n",
       "3  Open     Float64\n",
       "4  High     Float64\n",
       "5  Low      Float64\n",
       "6  Close    Float64\n",
       "7  Volume   Int64\n",
       "8  OpenInt  Int64"
      ]
     },
     "execution_count": 27,
     "metadata": {},
     "output_type": "execute_result"
    }
   ],
   "source": [
    "stocks = loadtable(\"stocksample\"; filenamecol = :Ticker, indexcols = [:Ticker, :Date])"
   ]
  },
  {
   "cell_type": "markdown",
   "metadata": {},
   "source": [
    "JuliaDB prints a column summary if the table would print wider than the display (hardcoded in Jupyter as 80 characters).  However, we can override this:"
   ]
  },
  {
   "cell_type": "code",
   "execution_count": 28,
   "metadata": {},
   "outputs": [
    {
     "data": {
      "text/plain": [
       "Table with 56023 rows, 8 columns:\n",
       "\u001b[1mTicker         \u001b[22m\u001b[1mDate        \u001b[22mOpen     High     Low      Close    Volume    OpenInt\n",
       "────────────────────────────────────────────────────────────────────────────────\n",
       "\"aapl.us.txt\"  1984-09-07  0.42388  0.42902  0.41874  0.42388  23220030  0\n",
       "\"aapl.us.txt\"  1984-09-10  0.42388  0.42516  0.41366  0.42134  18022532  0\n",
       "\"aapl.us.txt\"  1984-09-11  0.42516  0.43668  0.42516  0.42902  42498199  0\n",
       "\"aapl.us.txt\"  1984-09-12  0.42902  0.43157  0.41618  0.41618  37125801  0\n",
       "\"aapl.us.txt\"  1984-09-13  0.43927  0.44052  0.43927  0.43927  57822062  0\n",
       "\"aapl.us.txt\"  1984-09-14  0.44052  0.45589  0.44052  0.44566  68847968  0\n",
       "\"aapl.us.txt\"  1984-09-17  0.45718  0.46357  0.45718  0.45718  53755262  0\n",
       "\"aapl.us.txt\"  1984-09-18  0.45718  0.46103  0.44052  0.44052  27136886  0\n",
       "\"aapl.us.txt\"  1984-09-19  0.44052  0.44566  0.43157  0.43157  29641922  0\n",
       "\"aapl.us.txt\"  1984-09-20  0.43286  0.43668  0.43286  0.43286  18453585  0\n",
       "\"aapl.us.txt\"  1984-09-21  0.43286  0.44566  0.42388  0.42902  27842780  0\n",
       "\"aapl.us.txt\"  1984-09-24  0.42902  0.43157  0.42516  0.42516  22033109  0\n",
       "⋮\n",
       "\"tsla.us.txt\"  2017-10-27  319.75   324.59   316.66   320.87   6970118   0\n",
       "\"tsla.us.txt\"  2017-10-30  319.18   323.78   317.25   320.08   4254378   0\n",
       "\"tsla.us.txt\"  2017-10-31  320.23   331.95   320.18   331.53   5672347   0\n",
       "\"tsla.us.txt\"  2017-11-01  332.25   332.609  320.26   321.08   8457336   0\n",
       "\"tsla.us.txt\"  2017-11-02  300.13   308.69   292.63   299.26   19791416  0\n",
       "\"tsla.us.txt\"  2017-11-03  299.5    306.25   295.13   306.09   8893974   0\n",
       "\"tsla.us.txt\"  2017-11-06  307.0    307.5    299.01   302.78   6482486   0\n",
       "\"tsla.us.txt\"  2017-11-07  301.02   306.5    300.03   306.05   5286320   0\n",
       "\"tsla.us.txt\"  2017-11-08  305.5    306.89   301.3    304.31   4725510   0\n",
       "\"tsla.us.txt\"  2017-11-09  302.5    304.46   296.3    302.99   5440335   0\n",
       "\"tsla.us.txt\"  2017-11-10  302.5    308.36   301.85   302.99   4621912   0"
      ]
     },
     "execution_count": 28,
     "metadata": {},
     "output_type": "execute_result"
    }
   ],
   "source": [
    "IndexedTables.set_show_compact!(false)\n",
    "\n",
    "stocks"
   ]
  },
  {
   "cell_type": "markdown",
   "metadata": {},
   "source": [
    "Now the entries of `stocks` are arranged by file.\n",
    "\n",
    "Let's look at the first entry of `stocks`:"
   ]
  },
  {
   "cell_type": "code",
   "execution_count": 29,
   "metadata": {},
   "outputs": [
    {
     "data": {
      "text/plain": [
       "(Ticker = \"aapl.us.txt\", Date = 1984-09-07, Open = 0.42388, High = 0.42902, Low = 0.41874, Close = 0.42388, Volume = 23220030, OpenInt = 0)"
      ]
     },
     "execution_count": 29,
     "metadata": {},
     "output_type": "execute_result"
    }
   ],
   "source": [
    "stocks[1]"
   ]
  },
  {
   "cell_type": "markdown",
   "metadata": {},
   "source": [
    "Using some shell commands, we can see that \"aapl.us.txt\" has 8365 lines (including a header), "
   ]
  },
  {
   "cell_type": "code",
   "execution_count": 30,
   "metadata": {},
   "outputs": [
    {
     "name": "stdout",
     "output_type": "stream",
     "text": [
      "    8365 stocksample/aapl.us.txt\n"
     ]
    }
   ],
   "source": [
    ";wc -l stocksample/aapl.us.txt"
   ]
  },
  {
   "cell_type": "markdown",
   "metadata": {},
   "source": [
    "so we would expect the first 8364 entries of `stocks` to contain data from \"aapl.us.txt\":"
   ]
  },
  {
   "cell_type": "code",
   "execution_count": 31,
   "metadata": {},
   "outputs": [
    {
     "data": {
      "text/plain": [
       "\"aapl.us.txt\""
      ]
     },
     "execution_count": 31,
     "metadata": {},
     "output_type": "execute_result"
    }
   ],
   "source": [
    "stocks[8364].Ticker"
   ]
  },
  {
   "cell_type": "code",
   "execution_count": 32,
   "metadata": {},
   "outputs": [
    {
     "data": {
      "text/plain": [
       "\"amzn.us.txt\""
      ]
     },
     "execution_count": 32,
     "metadata": {},
     "output_type": "execute_result"
    }
   ],
   "source": [
    "stocks[8365].Ticker"
   ]
  },
  {
   "cell_type": "markdown",
   "metadata": {},
   "source": [
    "Note that the secondary index by which entries are sorted is \"Date\". Therefore, for entries from the same file, `stocks[n + 1]` refers to an entry with a date after that of `stocks[n]` for integer `n`."
   ]
  },
  {
   "cell_type": "code",
   "execution_count": 33,
   "metadata": {
    "scrolled": true
   },
   "outputs": [
    {
     "data": {
      "text/plain": [
       "1984-09-07"
      ]
     },
     "execution_count": 33,
     "metadata": {},
     "output_type": "execute_result"
    }
   ],
   "source": [
    "stocks[1].Date"
   ]
  },
  {
   "cell_type": "code",
   "execution_count": 34,
   "metadata": {},
   "outputs": [
    {
     "data": {
      "text/plain": [
       "1984-09-10"
      ]
     },
     "execution_count": 34,
     "metadata": {},
     "output_type": "execute_result"
    }
   ],
   "source": [
    "stocks[2].Date"
   ]
  },
  {
   "cell_type": "markdown",
   "metadata": {},
   "source": [
    "In contrast, we could have chosen to arrange entries by the file from which they came and then by their \"high\" values."
   ]
  },
  {
   "cell_type": "code",
   "execution_count": 35,
   "metadata": {},
   "outputs": [
    {
     "data": {
      "text/plain": [
       "Table with 56023 rows, 8 columns:\n",
       "\u001b[1mTicker         \u001b[22m\u001b[1mHigh     \u001b[22mDate        Open     Low      Close    Volume    OpenInt\n",
       "────────────────────────────────────────────────────────────────────────────────\n",
       "\"aapl.us.txt\"  0.23564  1985-08-15  0.23305  0.23051  0.23051  29335821  0\n",
       "\"aapl.us.txt\"  0.2369   1985-08-16  0.23305  0.23305  0.23305  23357459  0\n",
       "\"aapl.us.txt\"  0.23949  1985-06-17  0.2369   0.2369   0.2369   65911889  0\n",
       "\"aapl.us.txt\"  0.23949  1985-08-23  0.2369   0.23564  0.23564  12275315  0\n",
       "\"aapl.us.txt\"  0.23949  1985-08-30  0.23949  0.23949  0.23949  11956721  0\n",
       "\"aapl.us.txt\"  0.23949  1985-09-03  0.23949  0.23564  0.23564  10444953  0\n",
       "\"aapl.us.txt\"  0.23949  1985-09-05  0.2369   0.2369   0.2369   9151833   0\n",
       "\"aapl.us.txt\"  0.23949  1985-09-06  0.23949  0.23949  0.23949  25881231  0\n",
       "\"aapl.us.txt\"  0.24202  1985-08-26  0.24202  0.24202  0.24202  9945186   0\n",
       "\"aapl.us.txt\"  0.24202  1985-09-04  0.2369   0.2369   0.2369   13262346  0\n",
       "\"aapl.us.txt\"  0.24202  1985-10-08  0.24202  0.24202  0.24202  24257025  0\n",
       "\"aapl.us.txt\"  0.24333  1985-08-08  0.24202  0.24202  0.24202  41211327  0\n",
       "⋮\n",
       "\"tsla.us.txt\"  377.96   2017-09-14  364.33   362.63   377.64   7171437   0\n",
       "\"tsla.us.txt\"  378.01   2017-06-16  377.975  370.1    371.4    6350378   0\n",
       "\"tsla.us.txt\"  378.249  2017-09-20  373.0    371.07   373.91   4910883   0\n",
       "\"tsla.us.txt\"  378.88   2017-06-20  376.67   369.73   372.24   7421638   0\n",
       "\"tsla.us.txt\"  380.0    2017-09-15  374.51   372.7    379.81   5409018   0\n",
       "\"tsla.us.txt\"  382.39   2017-09-19  380.0    373.57   375.1    6440275   0\n",
       "\"tsla.us.txt\"  384.25   2017-06-14  381.085  376.31   380.66   12783558  0\n",
       "\"tsla.us.txt\"  385.0    2017-06-22  377.99   373.57   382.61   7514282   0\n",
       "\"tsla.us.txt\"  386.95   2017-06-26  386.69   373.1    377.49   6597603   0\n",
       "\"tsla.us.txt\"  386.99   2017-06-23  382.45   379.345  383.45   6426666   0\n",
       "\"tsla.us.txt\"  389.61   2017-09-18  380.25   377.68   385.0    7179287   0"
      ]
     },
     "execution_count": 35,
     "metadata": {},
     "output_type": "execute_result"
    }
   ],
   "source": [
    "stocks2 = loadtable(\"stocksample\"; filenamecol = :Ticker, indexcols = [:Ticker, :High])"
   ]
  },
  {
   "cell_type": "markdown",
   "metadata": {},
   "source": [
    "For `stocks2` the first 8364 entries will be sorted by their \"High\" values rather than by date"
   ]
  },
  {
   "cell_type": "code",
   "execution_count": 36,
   "metadata": {},
   "outputs": [
    {
     "data": {
      "text/plain": [
       "0.24202"
      ]
     },
     "execution_count": 36,
     "metadata": {},
     "output_type": "execute_result"
    }
   ],
   "source": [
    "stocks2[11].High"
   ]
  },
  {
   "cell_type": "code",
   "execution_count": 37,
   "metadata": {},
   "outputs": [
    {
     "data": {
      "text/plain": [
       "0.24333"
      ]
     },
     "execution_count": 37,
     "metadata": {},
     "output_type": "execute_result"
    }
   ],
   "source": [
    "stocks2[12].High"
   ]
  },
  {
   "cell_type": "code",
   "execution_count": 38,
   "metadata": {},
   "outputs": [
    {
     "data": {
      "text/plain": [
       "1985-10-08"
      ]
     },
     "execution_count": 38,
     "metadata": {},
     "output_type": "execute_result"
    }
   ],
   "source": [
    "stocks2[11].Date"
   ]
  },
  {
   "cell_type": "code",
   "execution_count": 39,
   "metadata": {},
   "outputs": [
    {
     "data": {
      "text/plain": [
       "1985-08-08"
      ]
     },
     "execution_count": 39,
     "metadata": {},
     "output_type": "execute_result"
    }
   ],
   "source": [
    "stocks2[12].Date"
   ]
  },
  {
   "cell_type": "markdown",
   "metadata": {},
   "source": [
    "### What was Apple's closing price on 1986-02-10?\n",
    "\n",
    "- For a `Table` object, this requires a query\n",
    "- With a `NDSparse` object, we can just `getindex`"
   ]
  },
  {
   "cell_type": "code",
   "execution_count": 40,
   "metadata": {},
   "outputs": [
    {
     "data": {
      "text/plain": [
       "(Open = 0.38289, High = 0.39186, Low = 0.37906, Close = 0.38164, Volume = 31191161, OpenInt = 0)"
      ]
     },
     "execution_count": 40,
     "metadata": {},
     "output_type": "execute_result"
    }
   ],
   "source": [
    "stocksnd = loadndsparse(\"stocksample\", filenamecol=:Ticker, indexcols = [:Ticker, :Date])\n",
    "\n",
    "stocksnd[\"aapl.us.txt\", Date(1986, 2, 10)]"
   ]
  },
  {
   "cell_type": "markdown",
   "metadata": {},
   "source": [
    "# Saving tables into binary format\n",
    "\n",
    "To save a table in binary format, we can simply use the `save` function.\n",
    "\n",
    "`save` takes the table we'd like to save as its first input, and the saving destination as its second input."
   ]
  },
  {
   "cell_type": "code",
   "execution_count": 41,
   "metadata": {},
   "outputs": [
    {
     "data": {
      "text/plain": [
       "Table with 56023 rows, 8 columns:\n",
       "\u001b[1mTicker         \u001b[22m\u001b[1mDate        \u001b[22mOpen     High     Low      Close    Volume    OpenInt\n",
       "────────────────────────────────────────────────────────────────────────────────\n",
       "\"aapl.us.txt\"  1984-09-07  0.42388  0.42902  0.41874  0.42388  23220030  0\n",
       "\"aapl.us.txt\"  1984-09-10  0.42388  0.42516  0.41366  0.42134  18022532  0\n",
       "\"aapl.us.txt\"  1984-09-11  0.42516  0.43668  0.42516  0.42902  42498199  0\n",
       "\"aapl.us.txt\"  1984-09-12  0.42902  0.43157  0.41618  0.41618  37125801  0\n",
       "\"aapl.us.txt\"  1984-09-13  0.43927  0.44052  0.43927  0.43927  57822062  0\n",
       "\"aapl.us.txt\"  1984-09-14  0.44052  0.45589  0.44052  0.44566  68847968  0\n",
       "\"aapl.us.txt\"  1984-09-17  0.45718  0.46357  0.45718  0.45718  53755262  0\n",
       "\"aapl.us.txt\"  1984-09-18  0.45718  0.46103  0.44052  0.44052  27136886  0\n",
       "\"aapl.us.txt\"  1984-09-19  0.44052  0.44566  0.43157  0.43157  29641922  0\n",
       "\"aapl.us.txt\"  1984-09-20  0.43286  0.43668  0.43286  0.43286  18453585  0\n",
       "\"aapl.us.txt\"  1984-09-21  0.43286  0.44566  0.42388  0.42902  27842780  0\n",
       "\"aapl.us.txt\"  1984-09-24  0.42902  0.43157  0.42516  0.42516  22033109  0\n",
       "⋮\n",
       "\"tsla.us.txt\"  2017-10-27  319.75   324.59   316.66   320.87   6970118   0\n",
       "\"tsla.us.txt\"  2017-10-30  319.18   323.78   317.25   320.08   4254378   0\n",
       "\"tsla.us.txt\"  2017-10-31  320.23   331.95   320.18   331.53   5672347   0\n",
       "\"tsla.us.txt\"  2017-11-01  332.25   332.609  320.26   321.08   8457336   0\n",
       "\"tsla.us.txt\"  2017-11-02  300.13   308.69   292.63   299.26   19791416  0\n",
       "\"tsla.us.txt\"  2017-11-03  299.5    306.25   295.13   306.09   8893974   0\n",
       "\"tsla.us.txt\"  2017-11-06  307.0    307.5    299.01   302.78   6482486   0\n",
       "\"tsla.us.txt\"  2017-11-07  301.02   306.5    300.03   306.05   5286320   0\n",
       "\"tsla.us.txt\"  2017-11-08  305.5    306.89   301.3    304.31   4725510   0\n",
       "\"tsla.us.txt\"  2017-11-09  302.5    304.46   296.3    302.99   5440335   0\n",
       "\"tsla.us.txt\"  2017-11-10  302.5    308.36   301.85   302.99   4621912   0"
      ]
     },
     "execution_count": 41,
     "metadata": {},
     "output_type": "execute_result"
    }
   ],
   "source": [
    "save(stocks, \"stocks\")"
   ]
  },
  {
   "cell_type": "markdown",
   "metadata": {},
   "source": [
    "# Reloading a saved table\n",
    "\n",
    "To load a saved table, we use the `load` function (rather than `loadtable`, which we saw earlier)."
   ]
  },
  {
   "cell_type": "code",
   "execution_count": 42,
   "metadata": {},
   "outputs": [
    {
     "data": {
      "text/plain": [
       "Table with 56023 rows, 8 columns:\n",
       "\u001b[1mTicker         \u001b[22m\u001b[1mDate        \u001b[22mOpen     High     Low      Close    Volume    OpenInt\n",
       "────────────────────────────────────────────────────────────────────────────────\n",
       "\"aapl.us.txt\"  1984-09-07  0.42388  0.42902  0.41874  0.42388  23220030  0\n",
       "\"aapl.us.txt\"  1984-09-10  0.42388  0.42516  0.41366  0.42134  18022532  0\n",
       "\"aapl.us.txt\"  1984-09-11  0.42516  0.43668  0.42516  0.42902  42498199  0\n",
       "\"aapl.us.txt\"  1984-09-12  0.42902  0.43157  0.41618  0.41618  37125801  0\n",
       "\"aapl.us.txt\"  1984-09-13  0.43927  0.44052  0.43927  0.43927  57822062  0\n",
       "\"aapl.us.txt\"  1984-09-14  0.44052  0.45589  0.44052  0.44566  68847968  0\n",
       "\"aapl.us.txt\"  1984-09-17  0.45718  0.46357  0.45718  0.45718  53755262  0\n",
       "\"aapl.us.txt\"  1984-09-18  0.45718  0.46103  0.44052  0.44052  27136886  0\n",
       "\"aapl.us.txt\"  1984-09-19  0.44052  0.44566  0.43157  0.43157  29641922  0\n",
       "\"aapl.us.txt\"  1984-09-20  0.43286  0.43668  0.43286  0.43286  18453585  0\n",
       "\"aapl.us.txt\"  1984-09-21  0.43286  0.44566  0.42388  0.42902  27842780  0\n",
       "\"aapl.us.txt\"  1984-09-24  0.42902  0.43157  0.42516  0.42516  22033109  0\n",
       "⋮\n",
       "\"tsla.us.txt\"  2017-10-27  319.75   324.59   316.66   320.87   6970118   0\n",
       "\"tsla.us.txt\"  2017-10-30  319.18   323.78   317.25   320.08   4254378   0\n",
       "\"tsla.us.txt\"  2017-10-31  320.23   331.95   320.18   331.53   5672347   0\n",
       "\"tsla.us.txt\"  2017-11-01  332.25   332.609  320.26   321.08   8457336   0\n",
       "\"tsla.us.txt\"  2017-11-02  300.13   308.69   292.63   299.26   19791416  0\n",
       "\"tsla.us.txt\"  2017-11-03  299.5    306.25   295.13   306.09   8893974   0\n",
       "\"tsla.us.txt\"  2017-11-06  307.0    307.5    299.01   302.78   6482486   0\n",
       "\"tsla.us.txt\"  2017-11-07  301.02   306.5    300.03   306.05   5286320   0\n",
       "\"tsla.us.txt\"  2017-11-08  305.5    306.89   301.3    304.31   4725510   0\n",
       "\"tsla.us.txt\"  2017-11-09  302.5    304.46   296.3    302.99   5440335   0\n",
       "\"tsla.us.txt\"  2017-11-10  302.5    308.36   301.85   302.99   4621912   0"
      ]
     },
     "execution_count": 42,
     "metadata": {},
     "output_type": "execute_result"
    }
   ],
   "source": [
    "reloaded_stocks = load(\"stocks\")"
   ]
  },
  {
   "cell_type": "code",
   "execution_count": 43,
   "metadata": {},
   "outputs": [
    {
     "data": {
      "text/plain": [
       "true"
      ]
     },
     "execution_count": 43,
     "metadata": {},
     "output_type": "execute_result"
    }
   ],
   "source": [
    "stocks == reloaded_stocks"
   ]
  },
  {
   "cell_type": "markdown",
   "metadata": {},
   "source": [
    "Note that with JuliaDB, we can load large files quickly"
   ]
  },
  {
   "cell_type": "code",
   "execution_count": 44,
   "metadata": {},
   "outputs": [
    {
     "name": "stdout",
     "output_type": "stream",
     "text": [
      "  0.016667 seconds (279.94 k allocations: 6.434 MiB)\n"
     ]
    },
    {
     "data": {
      "text/plain": [
       "Table with 56023 rows, 8 columns:\n",
       "\u001b[1mTicker         \u001b[22m\u001b[1mDate        \u001b[22mOpen     High     Low      Close    Volume    OpenInt\n",
       "────────────────────────────────────────────────────────────────────────────────\n",
       "\"aapl.us.txt\"  1984-09-07  0.42388  0.42902  0.41874  0.42388  23220030  0\n",
       "\"aapl.us.txt\"  1984-09-10  0.42388  0.42516  0.41366  0.42134  18022532  0\n",
       "\"aapl.us.txt\"  1984-09-11  0.42516  0.43668  0.42516  0.42902  42498199  0\n",
       "\"aapl.us.txt\"  1984-09-12  0.42902  0.43157  0.41618  0.41618  37125801  0\n",
       "\"aapl.us.txt\"  1984-09-13  0.43927  0.44052  0.43927  0.43927  57822062  0\n",
       "\"aapl.us.txt\"  1984-09-14  0.44052  0.45589  0.44052  0.44566  68847968  0\n",
       "\"aapl.us.txt\"  1984-09-17  0.45718  0.46357  0.45718  0.45718  53755262  0\n",
       "\"aapl.us.txt\"  1984-09-18  0.45718  0.46103  0.44052  0.44052  27136886  0\n",
       "\"aapl.us.txt\"  1984-09-19  0.44052  0.44566  0.43157  0.43157  29641922  0\n",
       "\"aapl.us.txt\"  1984-09-20  0.43286  0.43668  0.43286  0.43286  18453585  0\n",
       "\"aapl.us.txt\"  1984-09-21  0.43286  0.44566  0.42388  0.42902  27842780  0\n",
       "\"aapl.us.txt\"  1984-09-24  0.42902  0.43157  0.42516  0.42516  22033109  0\n",
       "⋮\n",
       "\"tsla.us.txt\"  2017-10-27  319.75   324.59   316.66   320.87   6970118   0\n",
       "\"tsla.us.txt\"  2017-10-30  319.18   323.78   317.25   320.08   4254378   0\n",
       "\"tsla.us.txt\"  2017-10-31  320.23   331.95   320.18   331.53   5672347   0\n",
       "\"tsla.us.txt\"  2017-11-01  332.25   332.609  320.26   321.08   8457336   0\n",
       "\"tsla.us.txt\"  2017-11-02  300.13   308.69   292.63   299.26   19791416  0\n",
       "\"tsla.us.txt\"  2017-11-03  299.5    306.25   295.13   306.09   8893974   0\n",
       "\"tsla.us.txt\"  2017-11-06  307.0    307.5    299.01   302.78   6482486   0\n",
       "\"tsla.us.txt\"  2017-11-07  301.02   306.5    300.03   306.05   5286320   0\n",
       "\"tsla.us.txt\"  2017-11-08  305.5    306.89   301.3    304.31   4725510   0\n",
       "\"tsla.us.txt\"  2017-11-09  302.5    304.46   296.3    302.99   5440335   0\n",
       "\"tsla.us.txt\"  2017-11-10  302.5    308.36   301.85   302.99   4621912   0"
      ]
     },
     "execution_count": 44,
     "metadata": {},
     "output_type": "execute_result"
    }
   ],
   "source": [
    "# This timing is more dramatic with larger datasets\n",
    "@time load(\"stocks\")"
   ]
  },
  {
   "cell_type": "markdown",
   "metadata": {},
   "source": [
    "# Leveraging Selectors\n",
    "\n",
    "### Selectors are powerful ways to select and manipulate data\n",
    "\n",
    "1.  `Integer`: column at position\n",
    "2. `Symbol`: column by name\n",
    "3. `Array`: itself\n",
    "4. `Pair{Selection => Function}`: function mapped to selection\n",
    "5. `Tuple` of selections: table of each selection\n",
    "\n",
    "### Selectors show up everywhere\n",
    "<code>select(t, <span style=\"color: green\">which</span>)\n",
    "map(f, t; <span style=\"color: green\">select</span>)\n",
    "reduce(f, t; <span style=\"color: green\">select</span>)\n",
    "filter(f, t; <span style=\"color: green\">select</span>)\n",
    "groupby(f, t, <span style=\"color: green\">by</span>; <span style=\"color: green\">select</span>)\n",
    "groupreduce(f, t, <span style=\"color: green\">by</span>; <span style=\"color: green\">select</span>)\n",
    "join(f, l, r; how, <span style=\"color: green\">lkey</span>, <span style=\"color: green\">rkey</span>, <span style=\"color: green\">lselect</span>, <span style=\"color: green\">rselect</span>)\n",
    "groupjoin(f, l, r; how, <span style=\"color: green\">lkey</span>, <span style=\"color: green\">rkey</span>, <span style=\"color: green\">lselect</span>, <span style=\"color: green\">rselect</span>)\n",
    "</code>"
   ]
  },
  {
   "cell_type": "code",
   "execution_count": 45,
   "metadata": {},
   "outputs": [
    {
     "data": {
      "text/plain": [
       "56023-element Array{String,1}:\n",
       " \"aapl.us.txt\"\n",
       " \"aapl.us.txt\"\n",
       " \"aapl.us.txt\"\n",
       " \"aapl.us.txt\"\n",
       " \"aapl.us.txt\"\n",
       " \"aapl.us.txt\"\n",
       " \"aapl.us.txt\"\n",
       " \"aapl.us.txt\"\n",
       " \"aapl.us.txt\"\n",
       " \"aapl.us.txt\"\n",
       " \"aapl.us.txt\"\n",
       " \"aapl.us.txt\"\n",
       " \"aapl.us.txt\"\n",
       " ⋮            \n",
       " \"tsla.us.txt\"\n",
       " \"tsla.us.txt\"\n",
       " \"tsla.us.txt\"\n",
       " \"tsla.us.txt\"\n",
       " \"tsla.us.txt\"\n",
       " \"tsla.us.txt\"\n",
       " \"tsla.us.txt\"\n",
       " \"tsla.us.txt\"\n",
       " \"tsla.us.txt\"\n",
       " \"tsla.us.txt\"\n",
       " \"tsla.us.txt\"\n",
       " \"tsla.us.txt\""
      ]
     },
     "execution_count": 45,
     "metadata": {},
     "output_type": "execute_result"
    }
   ],
   "source": [
    "# Try selecting with Integer, Symbol, Pair, Tuple\n",
    "select(stocks, 1)"
   ]
  },
  {
   "cell_type": "code",
   "execution_count": 46,
   "metadata": {},
   "outputs": [
    {
     "data": {
      "text/plain": [
       "56023-element Array{Date,1}:\n",
       " 1984-09-07\n",
       " 1984-09-10\n",
       " 1984-09-11\n",
       " 1984-09-12\n",
       " 1984-09-13\n",
       " 1984-09-14\n",
       " 1984-09-17\n",
       " 1984-09-18\n",
       " 1984-09-19\n",
       " 1984-09-20\n",
       " 1984-09-21\n",
       " 1984-09-24\n",
       " 1984-09-25\n",
       " ⋮         \n",
       " 2017-10-26\n",
       " 2017-10-27\n",
       " 2017-10-30\n",
       " 2017-10-31\n",
       " 2017-11-01\n",
       " 2017-11-02\n",
       " 2017-11-03\n",
       " 2017-11-06\n",
       " 2017-11-07\n",
       " 2017-11-08\n",
       " 2017-11-09\n",
       " 2017-11-10"
      ]
     },
     "execution_count": 46,
     "metadata": {},
     "output_type": "execute_result"
    }
   ],
   "source": [
    "select(stocks, :Date)"
   ]
  },
  {
   "cell_type": "code",
   "execution_count": 47,
   "metadata": {},
   "outputs": [
    {
     "data": {
      "text/plain": [
       "Table with 56023 rows, 2 columns:\n",
       "\u001b[1mTicker         \u001b[22m\u001b[1mDate\u001b[22m\n",
       "─────────────────────────\n",
       "\"aapl.us.txt\"  1984-09-07\n",
       "\"aapl.us.txt\"  1984-09-10\n",
       "\"aapl.us.txt\"  1984-09-11\n",
       "\"aapl.us.txt\"  1984-09-12\n",
       "\"aapl.us.txt\"  1984-09-13\n",
       "\"aapl.us.txt\"  1984-09-14\n",
       "\"aapl.us.txt\"  1984-09-17\n",
       "\"aapl.us.txt\"  1984-09-18\n",
       "\"aapl.us.txt\"  1984-09-19\n",
       "\"aapl.us.txt\"  1984-09-20\n",
       "\"aapl.us.txt\"  1984-09-21\n",
       "\"aapl.us.txt\"  1984-09-24\n",
       "⋮\n",
       "\"tsla.us.txt\"  2017-10-27\n",
       "\"tsla.us.txt\"  2017-10-30\n",
       "\"tsla.us.txt\"  2017-10-31\n",
       "\"tsla.us.txt\"  2017-11-01\n",
       "\"tsla.us.txt\"  2017-11-02\n",
       "\"tsla.us.txt\"  2017-11-03\n",
       "\"tsla.us.txt\"  2017-11-06\n",
       "\"tsla.us.txt\"  2017-11-07\n",
       "\"tsla.us.txt\"  2017-11-08\n",
       "\"tsla.us.txt\"  2017-11-09\n",
       "\"tsla.us.txt\"  2017-11-10"
      ]
     },
     "execution_count": 47,
     "metadata": {},
     "output_type": "execute_result"
    }
   ],
   "source": [
    "select(stocks, (1, :Date))"
   ]
  }
 ],
 "metadata": {
  "kernelspec": {
   "display_name": "Julia 0.6.2-pre",
   "language": "julia",
   "name": "julia-0.6"
  },
  "language_info": {
   "file_extension": ".jl",
   "mimetype": "application/julia",
   "name": "julia",
   "version": "0.6.2"
  }
 },
 "nbformat": 4,
 "nbformat_minor": 2
}
