{
 "cells": [
  {
   "cell_type": "markdown",
   "metadata": {},
   "source": [
    "![](https://juliacomputing.com/assets/img/new/JuliaDB_logo2.svg)\n",
    "\n",
    "# Intro to JuliaDB\n",
    "\n",
    "JuliaDB is an analytical database.  Here are some highlights:\n",
    "\n",
    "- **Load multi-file datasets**\n",
    "- **Index the data and perform filter, aggregate, sort and join operations.**\n",
    "- **Compile queries**\n",
    "- **Store any data type**\n",
    "- **Save results and load them efficiently later.**\n",
    "- **Use Julia's built-in parallelism to fully utilize any machine or cluster.**\n",
    "- **OnlineStats integration for analytics**\n",
    "\n",
    "# Helpful links\n",
    "\n",
    "- [JuliaDB API Reference](http://juliadb.org/latest/api/index.html)\n",
    "- [OnlineStats Docs](http://joshday.github.io/OnlineStats.jl/stable/)\n",
    "\n",
    "# Let's get started\n",
    "\n",
    "1. Create tables from Julia Vectors\n",
    "1. Some differences between the two main data structures in JuliaDB\n",
    "1. Load tables from CSVs\n",
    "1. Save tables into binary format\n",
    "1. Load a saved table"
   ]
  },
  {
   "cell_type": "code",
   "execution_count": 14,
   "metadata": {},
   "outputs": [],
   "source": [
    "using JuliaDB\n",
    "\n",
    "# Some data \n",
    "x = [false, true, false, true]\n",
    "y = ['B', 'B', 'A', 'A']\n",
    "z = randn(4);"
   ]
  },
  {
   "cell_type": "markdown",
   "metadata": {},
   "source": [
    "# Data Structures\n",
    "\n",
    "- `Table`\n",
    "- `NDSparse`\n",
    "\n",
    "#### Performance is similar between `Table` and `NDSparse`\n",
    "\n",
    "Choose whichever makes sense for the data:\n",
    "\n",
    "- Stock data, which is sparse over the domains of ticker symbol and timestamp, is represented well by `NDSparse`."
   ]
  },
  {
   "cell_type": "markdown",
   "metadata": {},
   "source": [
    "## `Table`: sorted by primary key(s)"
   ]
  },
  {
   "cell_type": "code",
   "execution_count": 15,
   "metadata": {},
   "outputs": [
    {
     "data": {
      "text/plain": [
       "Table with 4 rows, 3 columns:\n",
       "\u001b[1mx      \u001b[22m\u001b[1my    \u001b[22mz\n",
       "─────────────────────\n",
       "false  'A'  -0.446344\n",
       "false  'B'  0.422846\n",
       "true   'A'  -1.22027\n",
       "true   'B'  -1.01038"
      ]
     },
     "execution_count": 15,
     "metadata": {},
     "output_type": "execute_result"
    }
   ],
   "source": [
    "t = table(@NT(x=x, y=y, z=z); pkey = [:x, :y])"
   ]
  },
  {
   "cell_type": "markdown",
   "metadata": {},
   "source": [
    "## `NDSparse`: N-dimensional sparse array"
   ]
  },
  {
   "cell_type": "code",
   "execution_count": 21,
   "metadata": {},
   "outputs": [
    {
     "data": {
      "text/plain": [
       "2-d NDSparse with 4 values (1 field named tuples):\n",
       "x      y   │ z\n",
       "───────────┼──────────\n",
       "false  'A' │ -0.446344\n",
       "false  'B' │ 0.422846\n",
       "true   'A' │ -1.22027\n",
       "true   'B' │ -1.01038"
      ]
     },
     "execution_count": 21,
     "metadata": {},
     "output_type": "execute_result"
    }
   ],
   "source": [
    "nd = ndsparse(@NT(x=x, y=y), @NT(z=z))"
   ]
  },
  {
   "cell_type": "markdown",
   "metadata": {},
   "source": [
    "## Accessing data: `Table` vs. `NDSparse`"
   ]
  },
  {
   "cell_type": "code",
   "execution_count": 18,
   "metadata": {},
   "outputs": [
    {
     "data": {
      "text/plain": [
       "(x = false, y = 'A', z = -0.4463440310173379)"
      ]
     },
     "execution_count": 18,
     "metadata": {},
     "output_type": "execute_result"
    }
   ],
   "source": [
    "t[1]"
   ]
  },
  {
   "cell_type": "code",
   "execution_count": 17,
   "metadata": {},
   "outputs": [
    {
     "data": {
      "text/plain": [
       "-0.4463440310173379"
      ]
     },
     "execution_count": 17,
     "metadata": {},
     "output_type": "execute_result"
    }
   ],
   "source": [
    "nd[false, 'A']"
   ]
  },
  {
   "cell_type": "code",
   "execution_count": 22,
   "metadata": {},
   "outputs": [
    {
     "name": "stdout",
     "output_type": "stream",
     "text": [
      "(x = false, y = 'A', z = -0.4463440310173379)\n",
      "(x = false, y = 'B', z = 0.42284612557404294)\n",
      "(x = true, y = 'A', z = -1.220268057158368)\n",
      "(x = true, y = 'B', z = -1.0103832553454009)\n"
     ]
    }
   ],
   "source": [
    "# Table: iterate over NamedTuples of rows\n",
    "for row in t\n",
    "    println(row)\n",
    "end"
   ]
  },
  {
   "cell_type": "code",
   "execution_count": 23,
   "metadata": {},
   "outputs": [
    {
     "name": "stdout",
     "output_type": "stream",
     "text": [
      "(z = -0.4463440310173379)\n",
      "(z = 0.42284612557404294)\n",
      "(z = -1.220268057158368)\n",
      "(z = -1.0103832553454009)\n"
     ]
    }
   ],
   "source": [
    "# NDSparse: iterate over NamedTuples of values\n",
    "for item in nd\n",
    "    println(item)\n",
    "end"
   ]
  },
  {
   "cell_type": "markdown",
   "metadata": {},
   "source": [
    "# Loading Data\n",
    "\n",
    "- Example data: 8 different stocks' OHLC data up to November 2017."
   ]
  },
  {
   "cell_type": "code",
   "execution_count": 25,
   "metadata": {},
   "outputs": [
    {
     "name": "stdout",
     "output_type": "stream",
     "text": [
      "aapl.us.txt\n",
      "amzn.us.txt\n",
      "dis.us.txt\n",
      "googl.us.txt\n",
      "ibm.us.txt\n",
      "msft.us.txt\n",
      "nflx.us.txt\n",
      "tsla.us.txt\n"
     ]
    }
   ],
   "source": [
    ";ls stocksample"
   ]
  },
  {
   "cell_type": "code",
   "execution_count": 27,
   "metadata": {},
   "outputs": [
    {
     "name": "stdout",
     "output_type": "stream",
     "text": [
      "Date,Open,High,Low,Close,Volume,OpenInt\r\n",
      "1984-09-07,0.42388,0.42902,0.41874,0.42388,23220030,0\r\n",
      "1984-09-10,0.42388,0.42516,0.41366,0.42134,18022532,0\r\n",
      "1984-09-11,0.42516,0.43668,0.42516,0.42902,42498199,0\r\n",
      "1984-09-12,0.42902,0.43157,0.41618,0.41618,37125801,0\r\n",
      "1984-09-13,0.43927,0.44052,0.43927,0.43927,57822062,0\r\n",
      "1984-09-14,0.44052,0.45589,0.44052,0.44566,68847968,0\r\n",
      "1984-09-17,0.45718,0.46357,0.45718,0.45718,53755262,0\r\n",
      "1984-09-18,0.45718,0.46103,0.44052,0.44052,27136886,0\r\n",
      "1984-09-19,0.44052,0.44566,0.43157,0.43157,29641922,0\r\n"
     ]
    }
   ],
   "source": [
    ";head stocksample/aapl.us.txt"
   ]
  },
  {
   "cell_type": "code",
   "execution_count": 64,
   "metadata": {
    "scrolled": true
   },
   "outputs": [
    {
     "data": {
      "text/plain": [
       "Table with 56023 rows, 8 columns:\n",
       "Columns:\n",
       "\u001b[1m#  \u001b[22m\u001b[1mcolname  \u001b[22m\u001b[1mtype\u001b[22m\n",
       "───────────────────\n",
       "1  Ticker   String\n",
       "2  Date     Date\n",
       "3  Open     Float64\n",
       "4  High     Float64\n",
       "5  Low      Float64\n",
       "6  Close    Float64\n",
       "7  Volume   Int64\n",
       "8  OpenInt  Int64"
      ]
     },
     "execution_count": 64,
     "metadata": {},
     "output_type": "execute_result"
    }
   ],
   "source": [
    "stocks = loadtable(\"stocksample\"; filenamecol = :Ticker, indexcols = [:Ticker, :Date])"
   ]
  },
  {
   "cell_type": "code",
   "execution_count": 44,
   "metadata": {},
   "outputs": [
    {
     "data": {
      "text/plain": [
       "(Ticker = \"aapl.us.txt\", Date = 1984-09-07, Open = 0.42388, High = 0.42902, Low = 0.41874, Close = 0.42388, Volume = 23220030, OpenInt = 0)"
      ]
     },
     "execution_count": 44,
     "metadata": {},
     "output_type": "execute_result"
    }
   ],
   "source": [
    "stocks[1]"
   ]
  },
  {
   "cell_type": "markdown",
   "metadata": {},
   "source": [
    "### What was Apple's closing price on 1986-02-10?\n",
    "\n",
    "- With `Table`, this requires a query\n",
    "- With `NDSparse`, this is just `getindex`"
   ]
  },
  {
   "cell_type": "code",
   "execution_count": 57,
   "metadata": {},
   "outputs": [
    {
     "data": {
      "text/plain": [
       "(Open = 0.38289, High = 0.39186, Low = 0.37906, Close = 0.38164, Volume = 31191161, OpenInt = 0)"
      ]
     },
     "execution_count": 57,
     "metadata": {},
     "output_type": "execute_result"
    }
   ],
   "source": [
    "stocksnd = loadndsparse(\"stocksample\", filenamecol=:Ticker, indexcols = [:Ticker, :Date])\n",
    "\n",
    "stocksnd[\"aapl.us.txt\", Date(1986, 2, 10)]"
   ]
  },
  {
   "cell_type": "markdown",
   "metadata": {},
   "source": [
    "# Saving Data"
   ]
  },
  {
   "cell_type": "code",
   "execution_count": 58,
   "metadata": {},
   "outputs": [
    {
     "data": {
      "text/plain": [
       "Table with 56023 rows, 8 columns:\n",
       "Columns:\n",
       "\u001b[1m#  \u001b[22m\u001b[1mcolname  \u001b[22m\u001b[1mtype\u001b[22m\n",
       "───────────────────\n",
       "1  Ticker   String\n",
       "2  Date     Date\n",
       "3  Open     Float64\n",
       "4  High     Float64\n",
       "5  Low      Float64\n",
       "6  Close    Float64\n",
       "7  Volume   Int64\n",
       "8  OpenInt  Int64"
      ]
     },
     "execution_count": 58,
     "metadata": {},
     "output_type": "execute_result"
    }
   ],
   "source": [
    "save(stocks, \"stocks\")"
   ]
  },
  {
   "cell_type": "markdown",
   "metadata": {},
   "source": [
    "# Reloading data"
   ]
  },
  {
   "cell_type": "code",
   "execution_count": 65,
   "metadata": {},
   "outputs": [
    {
     "name": "stdout",
     "output_type": "stream",
     "text": [
      "  0.021961 seconds (279.75 k allocations: 6.424 MiB, 28.32% gc time)\n"
     ]
    },
    {
     "data": {
      "text/plain": [
       "Table with 56023 rows, 8 columns:\n",
       "Columns:\n",
       "\u001b[1m#  \u001b[22m\u001b[1mcolname  \u001b[22m\u001b[1mtype\u001b[22m\n",
       "───────────────────\n",
       "1  Ticker   String\n",
       "2  Date     Date\n",
       "3  Open     Float64\n",
       "4  High     Float64\n",
       "5  Low      Float64\n",
       "6  Close    Float64\n",
       "7  Volume   Int64\n",
       "8  OpenInt  Int64"
      ]
     },
     "execution_count": 65,
     "metadata": {},
     "output_type": "execute_result"
    }
   ],
   "source": [
    "# This timing is more dramatic with larger datasets\n",
    "@time stocks2 = load(\"stocks\")"
   ]
  },
  {
   "cell_type": "code",
   "execution_count": 61,
   "metadata": {},
   "outputs": [
    {
     "data": {
      "text/plain": [
       "true"
      ]
     },
     "execution_count": 61,
     "metadata": {},
     "output_type": "execute_result"
    }
   ],
   "source": [
    "stocks == stocks2"
   ]
  }
 ],
 "metadata": {
  "kernelspec": {
   "display_name": "Julia 0.6.2-pre",
   "language": "julia",
   "name": "julia-0.6"
  },
  "language_info": {
   "file_extension": ".jl",
   "mimetype": "application/julia",
   "name": "julia",
   "version": "0.6.2"
  }
 },
 "nbformat": 4,
 "nbformat_minor": 2
}
