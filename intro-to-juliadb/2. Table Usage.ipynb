{
 "cells": [
  {
   "cell_type": "code",
   "execution_count": 46,
   "metadata": {},
   "outputs": [
    {
     "data": {
      "text/plain": [
       "Table with 56023 rows, 8 columns:\n",
       "Columns:\n",
       "\u001b[1m#  \u001b[22m\u001b[1mcolname  \u001b[22m\u001b[1mtype\u001b[22m\n",
       "───────────────────\n",
       "1  Ticker   String\n",
       "2  Date     Date\n",
       "3  Open     Float64\n",
       "4  High     Float64\n",
       "5  Low      Float64\n",
       "6  Close    Float64\n",
       "7  Volume   Int64\n",
       "8  OpenInt  Int64"
      ]
     },
     "execution_count": 46,
     "metadata": {},
     "output_type": "execute_result"
    }
   ],
   "source": [
    "using JuliaDB\n",
    "t = loadtable(\"stocksample\", filenamecol = :Ticker, indexcols = [:Ticker, :Date])"
   ]
  },
  {
   "cell_type": "markdown",
   "metadata": {},
   "source": [
    "# `select`\n",
    "\n",
    "`select(table, selection)`\n",
    "\n",
    "\n",
    "#### There are many possible `selection`s:\n",
    "\n",
    "1. `Integer`: column at position\n",
    "1. `Symbol`: column by name\n",
    "1. `Array`: itself\n",
    "1. `Pair{Selection => Function}`: function mapped to selection\n",
    "1. `Tuple` of selections: table of each selection"
   ]
  },
  {
   "cell_type": "code",
   "execution_count": 47,
   "metadata": {},
   "outputs": [
    {
     "data": {
      "text/plain": [
       "Table with 56023 rows, 3 columns:\n",
       "\u001b[1m1    \u001b[22m\u001b[1m2           \u001b[22m3\n",
       "──────────────────────\n",
       "'a'  1984-09-07  1\n",
       "'a'  1984-09-10  2\n",
       "'a'  1984-09-11  3\n",
       "'a'  1984-09-12  4\n",
       "'a'  1984-09-13  5\n",
       "'a'  1984-09-14  6\n",
       "'a'  1984-09-17  7\n",
       "'a'  1984-09-18  8\n",
       "'a'  1984-09-19  9\n",
       "'a'  1984-09-20  10\n",
       "'a'  1984-09-21  11\n",
       "'a'  1984-09-24  12\n",
       "⋮\n",
       "'t'  2017-10-27  56013\n",
       "'t'  2017-10-30  56014\n",
       "'t'  2017-10-31  56015\n",
       "'t'  2017-11-01  56016\n",
       "'t'  2017-11-02  56017\n",
       "'t'  2017-11-03  56018\n",
       "'t'  2017-11-06  56019\n",
       "'t'  2017-11-07  56020\n",
       "'t'  2017-11-08  56021\n",
       "'t'  2017-11-09  56022\n",
       "'t'  2017-11-10  56023"
      ]
     },
     "execution_count": 47,
     "metadata": {},
     "output_type": "execute_result"
    }
   ],
   "source": [
    "# select(stocks, 1)\n",
    "# select(stocks, :Ticker)\n",
    "# select(stocks, :Ticker => first)\n",
    "select(t, (:Ticker => first, :Date, 1:length(stocks)))"
   ]
  },
  {
   "cell_type": "markdown",
   "metadata": {},
   "source": [
    "#### Note: Multiple selections are \"passed around\" as NamedTuples"
   ]
  },
  {
   "cell_type": "code",
   "execution_count": 48,
   "metadata": {},
   "outputs": [
    {
     "data": {
      "text/plain": [
       "56023-element Array{Float64,1}:\n",
       "  0.01028\n",
       "  0.0115 \n",
       "  0.01152\n",
       "  0.01539\n",
       "  0.00125\n",
       "  0.01537\n",
       "  0.00639\n",
       "  0.02051\n",
       "  0.01409\n",
       "  0.00382\n",
       "  0.02178\n",
       "  0.00641\n",
       "  0.0077 \n",
       "  ⋮      \n",
       "  7.03   \n",
       "  7.93   \n",
       "  6.53   \n",
       " 11.77   \n",
       " 12.349  \n",
       " 16.06   \n",
       " 11.12   \n",
       "  8.49   \n",
       "  6.47   \n",
       "  5.59   \n",
       "  8.16   \n",
       "  6.51   "
      ]
     },
     "execution_count": 48,
     "metadata": {},
     "output_type": "execute_result"
    }
   ],
   "source": [
    "select(t, (:High, :Low) => row -> row.High - row.Low)"
   ]
  },
  {
   "cell_type": "markdown",
   "metadata": {},
   "source": [
    "# `map`\n",
    "\n",
    "`map(fun, table; select)`"
   ]
  },
  {
   "cell_type": "code",
   "execution_count": 72,
   "metadata": {},
   "outputs": [
    {
     "data": {
      "text/plain": [
       "56023-element Array{Char,1}:\n",
       " 'a'\n",
       " 'a'\n",
       " 'a'\n",
       " 'a'\n",
       " 'a'\n",
       " 'a'\n",
       " 'a'\n",
       " 'a'\n",
       " 'a'\n",
       " 'a'\n",
       " 'a'\n",
       " 'a'\n",
       " 'a'\n",
       " ⋮  \n",
       " 't'\n",
       " 't'\n",
       " 't'\n",
       " 't'\n",
       " 't'\n",
       " 't'\n",
       " 't'\n",
       " 't'\n",
       " 't'\n",
       " 't'\n",
       " 't'\n",
       " 't'"
      ]
     },
     "execution_count": 72,
     "metadata": {},
     "output_type": "execute_result"
    }
   ],
   "source": [
    "map(first, t; select = :Ticker)"
   ]
  },
  {
   "cell_type": "code",
   "execution_count": 73,
   "metadata": {},
   "outputs": [
    {
     "data": {
      "text/plain": [
       "true"
      ]
     },
     "execution_count": 73,
     "metadata": {},
     "output_type": "execute_result"
    }
   ],
   "source": [
    "ans == select(t, :Ticker => first)"
   ]
  },
  {
   "cell_type": "code",
   "execution_count": 63,
   "metadata": {
    "scrolled": false
   },
   "outputs": [
    {
     "data": {
      "text/plain": [
       "56023-element Array{Float64,1}:\n",
       "  0.00514\n",
       "  0.00382\n",
       "  0.00766\n",
       "  0.01539\n",
       "  0.00125\n",
       "  0.01023\n",
       "  0.00639\n",
       "  0.02051\n",
       "  0.01409\n",
       "  0.00382\n",
       "  0.01664\n",
       "  0.00641\n",
       "  0.0077 \n",
       "  ⋮      \n",
       "  4.06   \n",
       "  3.72   \n",
       "  3.7    \n",
       "  0.42   \n",
       " 11.529  \n",
       "  9.43   \n",
       "  0.16   \n",
       "  4.72   \n",
       "  0.45   \n",
       "  2.58   \n",
       "  1.47   \n",
       "  5.37   "
      ]
     },
     "execution_count": 63,
     "metadata": {},
     "output_type": "execute_result"
    }
   ],
   "source": [
    "map(r -> r.High - r.Close, t)"
   ]
  },
  {
   "cell_type": "markdown",
   "metadata": {},
   "source": [
    "# `filter`\n",
    "\n",
    "`filter(fun, table; selection)` "
   ]
  },
  {
   "cell_type": "code",
   "execution_count": 78,
   "metadata": {},
   "outputs": [
    {
     "data": {
      "text/plain": [
       "Table with 13517 rows, 8 columns:\n",
       "Columns:\n",
       "\u001b[1m#  \u001b[22m\u001b[1mcolname  \u001b[22m\u001b[1mtype\u001b[22m\n",
       "───────────────────\n",
       "1  Ticker   String\n",
       "2  Date     Date\n",
       "3  Open     Float64\n",
       "4  High     Float64\n",
       "5  Low      Float64\n",
       "6  Close    Float64\n",
       "7  Volume   Int64\n",
       "8  OpenInt  Int64"
      ]
     },
     "execution_count": 78,
     "metadata": {},
     "output_type": "execute_result"
    }
   ],
   "source": [
    "filter(x -> first(x) == 'a', t; select = :Ticker)"
   ]
  },
  {
   "cell_type": "code",
   "execution_count": 81,
   "metadata": {},
   "outputs": [
    {
     "data": {
      "text/plain": [
       "Table with 13517 rows, 8 columns:\n",
       "Columns:\n",
       "\u001b[1m#  \u001b[22m\u001b[1mcolname  \u001b[22m\u001b[1mtype\u001b[22m\n",
       "───────────────────\n",
       "1  Ticker   String\n",
       "2  Date     Date\n",
       "3  Open     Float64\n",
       "4  High     Float64\n",
       "5  Low      Float64\n",
       "6  Close    Float64\n",
       "7  Volume   Int64\n",
       "8  OpenInt  Int64"
      ]
     },
     "execution_count": 81,
     "metadata": {},
     "output_type": "execute_result"
    }
   ],
   "source": [
    "filter(x -> x == 'a', t; select = :Ticker => first)"
   ]
  },
  {
   "cell_type": "markdown",
   "metadata": {},
   "source": [
    "# AoS and SoA\n",
    "\n",
    "`columns(t; selection)` and `rows(t; selection)`"
   ]
  },
  {
   "cell_type": "code",
   "execution_count": 82,
   "metadata": {},
   "outputs": [
    {
     "data": {
      "text/plain": [
       "(Ticker = String[\"aapl.us.txt\", \"aapl.us.txt\", \"aapl.us.txt\", \"aapl.us.txt\", \"aapl.us.txt\", \"aapl.us.txt\", \"aapl.us.txt\", \"aapl.us.txt\", \"aapl.us.txt\", \"aapl.us.txt\"  …  \"tsla.us.txt\", \"tsla.us.txt\", \"tsla.us.txt\", \"tsla.us.txt\", \"tsla.us.txt\", \"tsla.us.txt\", \"tsla.us.txt\", \"tsla.us.txt\", \"tsla.us.txt\", \"tsla.us.txt\"], Date = Date[1984-09-07, 1984-09-10, 1984-09-11, 1984-09-12, 1984-09-13, 1984-09-14, 1984-09-17, 1984-09-18, 1984-09-19, 1984-09-20  …  2017-10-30, 2017-10-31, 2017-11-01, 2017-11-02, 2017-11-03, 2017-11-06, 2017-11-07, 2017-11-08, 2017-11-09, 2017-11-10], Open = [0.42388, 0.42388, 0.42516, 0.42902, 0.43927, 0.44052, 0.45718, 0.45718, 0.44052, 0.43286  …  319.18, 320.23, 332.25, 300.13, 299.5, 307.0, 301.02, 305.5, 302.5, 302.5], High = [0.42902, 0.42516, 0.43668, 0.43157, 0.44052, 0.45589, 0.46357, 0.46103, 0.44566, 0.43668  …  323.78, 331.95, 332.609, 308.69, 306.25, 307.5, 306.5, 306.89, 304.46, 308.36], Low = [0.41874, 0.41366, 0.42516, 0.41618, 0.43927, 0.44052, 0.45718, 0.44052, 0.43157, 0.43286  …  317.25, 320.18, 320.26, 292.63, 295.13, 299.01, 300.03, 301.3, 296.3, 301.85], Close = [0.42388, 0.42134, 0.42902, 0.41618, 0.43927, 0.44566, 0.45718, 0.44052, 0.43157, 0.43286  …  320.08, 331.53, 321.08, 299.26, 306.09, 302.78, 306.05, 304.31, 302.99, 302.99], Volume = [23220030, 18022532, 42498199, 37125801, 57822062, 68847968, 53755262, 27136886, 29641922, 18453585  …  4254378, 5672347, 8457336, 19791416, 8893974, 6482486, 5286320, 4725510, 5440335, 4621912], OpenInt = [0, 0, 0, 0, 0, 0, 0, 0, 0, 0  …  0, 0, 0, 0, 0, 0, 0, 0, 0, 0])"
      ]
     },
     "execution_count": 82,
     "metadata": {},
     "output_type": "execute_result"
    }
   ],
   "source": [
    "columns(t)"
   ]
  },
  {
   "cell_type": "code",
   "execution_count": 85,
   "metadata": {
    "scrolled": false
   },
   "outputs": [
    {
     "data": {
      "text/plain": [
       "56023-element IndexedTables.Columns{NamedTuples._NT_Ticker_Date_Open_High_Low_Close_Volume_OpenInt{String,Date,Float64,Float64,Float64,Float64,Int64,Int64},NamedTuples._NT_Ticker_Date_Open_High_Low_Close_Volume_OpenInt{Array{String,1},Array{Date,1},Array{Float64,1},Array{Float64,1},Array{Float64,1},Array{Float64,1},Array{Int64,1},Array{Int64,1}}}:\n",
       " (Ticker = \"aapl.us.txt\", Date = 1984-09-07, Open = 0.42388, High = 0.42902, Low = 0.41874, Close = 0.42388, Volume = 23220030, OpenInt = 0)\n",
       " (Ticker = \"aapl.us.txt\", Date = 1984-09-10, Open = 0.42388, High = 0.42516, Low = 0.41366, Close = 0.42134, Volume = 18022532, OpenInt = 0)\n",
       " (Ticker = \"aapl.us.txt\", Date = 1984-09-11, Open = 0.42516, High = 0.43668, Low = 0.42516, Close = 0.42902, Volume = 42498199, OpenInt = 0)\n",
       " (Ticker = \"aapl.us.txt\", Date = 1984-09-12, Open = 0.42902, High = 0.43157, Low = 0.41618, Close = 0.41618, Volume = 37125801, OpenInt = 0)\n",
       " (Ticker = \"aapl.us.txt\", Date = 1984-09-13, Open = 0.43927, High = 0.44052, Low = 0.43927, Close = 0.43927, Volume = 57822062, OpenInt = 0)\n",
       " (Ticker = \"aapl.us.txt\", Date = 1984-09-14, Open = 0.44052, High = 0.45589, Low = 0.44052, Close = 0.44566, Volume = 68847968, OpenInt = 0)\n",
       " (Ticker = \"aapl.us.txt\", Date = 1984-09-17, Open = 0.45718, High = 0.46357, Low = 0.45718, Close = 0.45718, Volume = 53755262, OpenInt = 0)\n",
       " (Ticker = \"aapl.us.txt\", Date = 1984-09-18, Open = 0.45718, High = 0.46103, Low = 0.44052, Close = 0.44052, Volume = 27136886, OpenInt = 0)\n",
       " (Ticker = \"aapl.us.txt\", Date = 1984-09-19, Open = 0.44052, High = 0.44566, Low = 0.43157, Close = 0.43157, Volume = 29641922, OpenInt = 0)\n",
       " (Ticker = \"aapl.us.txt\", Date = 1984-09-20, Open = 0.43286, High = 0.43668, Low = 0.43286, Close = 0.43286, Volume = 18453585, OpenInt = 0)\n",
       " (Ticker = \"aapl.us.txt\", Date = 1984-09-21, Open = 0.43286, High = 0.44566, Low = 0.42388, Close = 0.42902, Volume = 27842780, OpenInt = 0)\n",
       " (Ticker = \"aapl.us.txt\", Date = 1984-09-24, Open = 0.42902, High = 0.43157, Low = 0.42516, Close = 0.42516, Volume = 22033109, OpenInt = 0)\n",
       " (Ticker = \"aapl.us.txt\", Date = 1984-09-25, Open = 0.42388, High = 0.42388, Low = 0.41618, Close = 0.41618, Volume = 46515020, OpenInt = 0)\n",
       " ⋮                                                                                                                                          \n",
       " (Ticker = \"tsla.us.txt\", Date = 2017-10-26, Open = 327.78, High = 330.23, Low = 323.2, Close = 326.17, Volume = 5012087, OpenInt = 0)      \n",
       " (Ticker = \"tsla.us.txt\", Date = 2017-10-27, Open = 319.75, High = 324.59, Low = 316.66, Close = 320.87, Volume = 6970118, OpenInt = 0)     \n",
       " (Ticker = \"tsla.us.txt\", Date = 2017-10-30, Open = 319.18, High = 323.78, Low = 317.25, Close = 320.08, Volume = 4254378, OpenInt = 0)     \n",
       " (Ticker = \"tsla.us.txt\", Date = 2017-10-31, Open = 320.23, High = 331.95, Low = 320.18, Close = 331.53, Volume = 5672347, OpenInt = 0)     \n",
       " (Ticker = \"tsla.us.txt\", Date = 2017-11-01, Open = 332.25, High = 332.609, Low = 320.26, Close = 321.08, Volume = 8457336, OpenInt = 0)    \n",
       " (Ticker = \"tsla.us.txt\", Date = 2017-11-02, Open = 300.13, High = 308.69, Low = 292.63, Close = 299.26, Volume = 19791416, OpenInt = 0)    \n",
       " (Ticker = \"tsla.us.txt\", Date = 2017-11-03, Open = 299.5, High = 306.25, Low = 295.13, Close = 306.09, Volume = 8893974, OpenInt = 0)      \n",
       " (Ticker = \"tsla.us.txt\", Date = 2017-11-06, Open = 307.0, High = 307.5, Low = 299.01, Close = 302.78, Volume = 6482486, OpenInt = 0)       \n",
       " (Ticker = \"tsla.us.txt\", Date = 2017-11-07, Open = 301.02, High = 306.5, Low = 300.03, Close = 306.05, Volume = 5286320, OpenInt = 0)      \n",
       " (Ticker = \"tsla.us.txt\", Date = 2017-11-08, Open = 305.5, High = 306.89, Low = 301.3, Close = 304.31, Volume = 4725510, OpenInt = 0)       \n",
       " (Ticker = \"tsla.us.txt\", Date = 2017-11-09, Open = 302.5, High = 304.46, Low = 296.3, Close = 302.99, Volume = 5440335, OpenInt = 0)       \n",
       " (Ticker = \"tsla.us.txt\", Date = 2017-11-10, Open = 302.5, High = 308.36, Low = 301.85, Close = 302.99, Volume = 4621912, OpenInt = 0)      "
      ]
     },
     "execution_count": 85,
     "metadata": {},
     "output_type": "execute_result"
    }
   ],
   "source": [
    "rows(t)"
   ]
  },
  {
   "cell_type": "markdown",
   "metadata": {},
   "source": [
    "# `reduce`\n",
    "\n",
    "`reduce(reducer, table; selection)`"
   ]
  },
  {
   "cell_type": "markdown",
   "metadata": {},
   "source": [
    "# `groupreduce`\n",
    "\n",
    "`groupreduce(reducer, table, by; selection)`"
   ]
  },
  {
   "cell_type": "markdown",
   "metadata": {},
   "source": [
    "# `groupby`\n",
    "\n",
    "`groupby(fun, table [, by]; selection, flatten)`"
   ]
  },
  {
   "cell_type": "markdown",
   "metadata": {},
   "source": [
    "# `summarize`\n",
    "\n",
    "`summarize(f, t, by = pkeynames(t); select = excludecols(t, by))`"
   ]
  }
 ],
 "metadata": {
  "kernelspec": {
   "display_name": "Julia 0.6.2-pre",
   "language": "julia",
   "name": "julia-0.6"
  },
  "language_info": {
   "file_extension": ".jl",
   "mimetype": "application/julia",
   "name": "julia",
   "version": "0.6.2"
  }
 },
 "nbformat": 4,
 "nbformat_minor": 2
}
