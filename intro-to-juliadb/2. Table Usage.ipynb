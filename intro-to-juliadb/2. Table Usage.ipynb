{
 "cells": [
  {
   "cell_type": "markdown",
   "metadata": {},
   "source": [
    "# Methods for `Table`"
   ]
  },
  {
   "cell_type": "code",
   "execution_count": 1,
   "metadata": {},
   "outputs": [
    {
     "data": {
      "text/plain": [
       "Table with 56023 rows, 8 columns:\n",
       "Columns:\n",
       "\u001b[1m#  \u001b[22m\u001b[1mcolname  \u001b[22m\u001b[1mtype\u001b[22m\n",
       "───────────────────\n",
       "1  Ticker   String\n",
       "2  Date     Date\n",
       "3  Open     Float64\n",
       "4  High     Float64\n",
       "5  Low      Float64\n",
       "6  Close    Float64\n",
       "7  Volume   Int64\n",
       "8  OpenInt  Int64"
      ]
     },
     "execution_count": 1,
     "metadata": {},
     "output_type": "execute_result"
    }
   ],
   "source": [
    "using JuliaDB\n",
    "\n",
    "t = loadtable(\"stocksample\", filenamecol = :Ticker, indexcols = [:Ticker, :Date])"
   ]
  },
  {
   "cell_type": "markdown",
   "metadata": {},
   "source": [
    "# `select`\n",
    "\n",
    "`select(table, selection)`\n",
    "\n",
    "### Note: Multiple selections are \"passed around\" as NamedTuples"
   ]
  },
  {
   "cell_type": "code",
   "execution_count": 8,
   "metadata": {},
   "outputs": [
    {
     "data": {
      "text/plain": [
       "56023-element Array{Float64,1}:\n",
       "  0.01028\n",
       "  0.0115 \n",
       "  0.01152\n",
       "  0.01539\n",
       "  0.00125\n",
       "  0.01537\n",
       "  0.00639\n",
       "  0.02051\n",
       "  0.01409\n",
       "  0.00382\n",
       "  0.02178\n",
       "  0.00641\n",
       "  0.0077 \n",
       "  ⋮      \n",
       "  7.03   \n",
       "  7.93   \n",
       "  6.53   \n",
       " 11.77   \n",
       " 12.349  \n",
       " 16.06   \n",
       " 11.12   \n",
       "  8.49   \n",
       "  6.47   \n",
       "  5.59   \n",
       "  8.16   \n",
       "  6.51   "
      ]
     },
     "execution_count": 8,
     "metadata": {},
     "output_type": "execute_result"
    }
   ],
   "source": [
    "select(t, (:High, :Low) => row -> row.High - row.Low)"
   ]
  },
  {
   "cell_type": "markdown",
   "metadata": {},
   "source": [
    "# `map`\n",
    "\n",
    "`map(fun, table; select)`"
   ]
  },
  {
   "cell_type": "code",
   "execution_count": 9,
   "metadata": {},
   "outputs": [
    {
     "data": {
      "text/plain": [
       "true"
      ]
     },
     "execution_count": 9,
     "metadata": {},
     "output_type": "execute_result"
    }
   ],
   "source": [
    "map(first, t; select = :Ticker) == select(t, :Ticker => first)"
   ]
  },
  {
   "cell_type": "code",
   "execution_count": 10,
   "metadata": {
    "scrolled": false
   },
   "outputs": [
    {
     "data": {
      "text/plain": [
       "56023-element Array{Float64,1}:\n",
       "  0.00514\n",
       "  0.00382\n",
       "  0.00766\n",
       "  0.01539\n",
       "  0.00125\n",
       "  0.01023\n",
       "  0.00639\n",
       "  0.02051\n",
       "  0.01409\n",
       "  0.00382\n",
       "  0.01664\n",
       "  0.00641\n",
       "  0.0077 \n",
       "  ⋮      \n",
       "  4.06   \n",
       "  3.72   \n",
       "  3.7    \n",
       "  0.42   \n",
       " 11.529  \n",
       "  9.43   \n",
       "  0.16   \n",
       "  4.72   \n",
       "  0.45   \n",
       "  2.58   \n",
       "  1.47   \n",
       "  5.37   "
      ]
     },
     "execution_count": 10,
     "metadata": {},
     "output_type": "execute_result"
    }
   ],
   "source": [
    "map(r -> r.High - r.Close, t)"
   ]
  },
  {
   "cell_type": "markdown",
   "metadata": {},
   "source": [
    "# `filter`\n",
    "\n",
    "`filter(fun, table; selection)` "
   ]
  },
  {
   "cell_type": "code",
   "execution_count": 11,
   "metadata": {},
   "outputs": [
    {
     "data": {
      "text/plain": [
       "Table with 26302 rows, 8 columns:\n",
       "Columns:\n",
       "\u001b[1m#  \u001b[22m\u001b[1mcolname  \u001b[22m\u001b[1mtype\u001b[22m\n",
       "───────────────────\n",
       "1  Ticker   String\n",
       "2  Date     Date\n",
       "3  Open     Float64\n",
       "4  High     Float64\n",
       "5  Low      Float64\n",
       "6  Close    Float64\n",
       "7  Volume   Int64\n",
       "8  OpenInt  Int64"
      ]
     },
     "execution_count": 11,
     "metadata": {},
     "output_type": "execute_result"
    }
   ],
   "source": [
    "# Find days where stock price increased\n",
    "filter(row -> row.Open < row.Close, t; select = (:Open, :Close))"
   ]
  },
  {
   "cell_type": "markdown",
   "metadata": {},
   "source": [
    "# `reduce`\n",
    "\n",
    "`reduce(reducer, table; select)`"
   ]
  },
  {
   "cell_type": "code",
   "execution_count": 12,
   "metadata": {},
   "outputs": [
    {
     "data": {
      "text/plain": [
       "3.9113906714000925e6"
      ]
     },
     "execution_count": 12,
     "metadata": {},
     "output_type": "execute_result"
    }
   ],
   "source": [
    "reduce(+, t; select = :Close)"
   ]
  },
  {
   "cell_type": "code",
   "execution_count": 19,
   "metadata": {},
   "outputs": [
    {
     "data": {
      "text/plain": [
       "\u001b[32m▦ Series{0}\u001b[39m\n",
       "│\u001b[32m EqualWeight | nobs=56023\u001b[39m\n",
       "└── Mean(69.8176)"
      ]
     },
     "execution_count": 19,
     "metadata": {},
     "output_type": "execute_result"
    }
   ],
   "source": [
    "using OnlineStats  # more on this later\n",
    "\n",
    "reduce(Mean(), t; select = :Close)"
   ]
  },
  {
   "cell_type": "markdown",
   "metadata": {},
   "source": [
    "# `groupreduce`\n",
    "\n",
    "`groupreduce(reducer, table, by; selection)`"
   ]
  },
  {
   "cell_type": "code",
   "execution_count": 41,
   "metadata": {
    "scrolled": true
   },
   "outputs": [
    {
     "data": {
      "text/plain": [
       "Table with 8 rows, 2 columns:\n",
       "\u001b[1mTicker          \u001b[22m+\n",
       "─────────────────────────\n",
       "\"aapl.us.txt\"   1.86358e5\n",
       "\"amzn.us.txt\"   9.36657e5\n",
       "\"dis.us.txt\"    2.4894e5\n",
       "\"googl.us.txt\"  1.29939e6\n",
       "\"ibm.us.txt\"    6.82623e5\n",
       "\"msft.us.txt\"   1.51555e5\n",
       "\"nflx.us.txt\"   1.26508e5\n",
       "\"tsla.us.txt\"   2.7936e5"
      ]
     },
     "execution_count": 41,
     "metadata": {},
     "output_type": "execute_result"
    }
   ],
   "source": [
    "groupreduce(+, t, :Ticker; select = :Close)"
   ]
  },
  {
   "cell_type": "markdown",
   "metadata": {},
   "source": [
    "# `groupby`\n",
    "\n",
    "`groupby(fun, table [, by]; select, flatten)`"
   ]
  },
  {
   "cell_type": "code",
   "execution_count": 42,
   "metadata": {},
   "outputs": [
    {
     "data": {
      "text/plain": [
       "Table with 8 rows, 2 columns:\n",
       "\u001b[1mTicker          \u001b[22mmin_max\n",
       "─────────────────────────────────\n",
       "\"aapl.us.txt\"   (0.23051, 175.61)\n",
       "\"amzn.us.txt\"   (1.4, 1132.88)\n",
       "\"dis.us.txt\"    (0.28298, 118.24)\n",
       "\"googl.us.txt\"  (50.005, 1058.29)\n",
       "\"ibm.us.txt\"    (3.3901, 186.36)\n",
       "\"msft.us.txt\"   (0.0672, 84.56)\n",
       "\"nflx.us.txt\"   (1.29, 202.68)\n",
       "\"tsla.us.txt\"   (15.8, 385.0)"
      ]
     },
     "execution_count": 42,
     "metadata": {},
     "output_type": "execute_result"
    }
   ],
   "source": [
    "# largest price increase in a single day\n",
    "groupby(@NT(min_max = extrema), t, :Ticker; select = :Close)"
   ]
  },
  {
   "cell_type": "markdown",
   "metadata": {},
   "source": [
    "# `summarize`\n",
    "\n",
    "`summarize(fun, table, by; select)`"
   ]
  },
  {
   "cell_type": "code",
   "execution_count": 26,
   "metadata": {
    "scrolled": true
   },
   "outputs": [
    {
     "data": {
      "text/plain": [
       "Table with 8 rows, 5 columns:\n",
       "\u001b[1mTicker          \u001b[22mOpen_mean  Close_mean  Open_std  Close_std\n",
       "──────────────────────────────────────────────────────────\n",
       "\"aapl.us.txt\"   22.2844    22.281      37.7634   37.7645\n",
       "\"amzn.us.txt\"   181.747    181.769     239.611   239.548\n",
       "\"dis.us.txt\"    20.6162    20.6212     26.4788   26.4787\n",
       "\"googl.us.txt\"  389.993    389.856     235.105   235.102\n",
       "\"ibm.us.txt\"    48.5355    48.5542     49.271    49.2977\n",
       "\"msft.us.txt\"   18.9779    18.9847     16.4161   16.424\n",
       "\"nflx.us.txt\"   39.5034    39.5213     47.5678   47.5733\n",
       "\"tsla.us.txt\"   150.39     150.355     107.072   107.024"
      ]
     },
     "execution_count": 26,
     "metadata": {},
     "output_type": "execute_result"
    }
   ],
   "source": [
    "summarize((mean, std), t, :Ticker; select = (:Open, :Close))"
   ]
  },
  {
   "cell_type": "markdown",
   "metadata": {},
   "source": [
    "# AoS and SoA\n",
    "\n",
    "Return the columns (struct of arrays) or rows (array of structs)\n",
    "\n",
    "`columns(t; selection)` and `rows(t; selection)`"
   ]
  },
  {
   "cell_type": "code",
   "execution_count": 43,
   "metadata": {},
   "outputs": [
    {
     "data": {
      "text/plain": [
       "(Ticker = String[\"aapl.us.txt\", \"aapl.us.txt\", \"aapl.us.txt\", \"aapl.us.txt\", \"aapl.us.txt\", \"aapl.us.txt\", \"aapl.us.txt\", \"aapl.us.txt\", \"aapl.us.txt\", \"aapl.us.txt\"  …  \"tsla.us.txt\", \"tsla.us.txt\", \"tsla.us.txt\", \"tsla.us.txt\", \"tsla.us.txt\", \"tsla.us.txt\", \"tsla.us.txt\", \"tsla.us.txt\", \"tsla.us.txt\", \"tsla.us.txt\"], Date = Date[1984-09-07, 1984-09-10, 1984-09-11, 1984-09-12, 1984-09-13, 1984-09-14, 1984-09-17, 1984-09-18, 1984-09-19, 1984-09-20  …  2017-10-30, 2017-10-31, 2017-11-01, 2017-11-02, 2017-11-03, 2017-11-06, 2017-11-07, 2017-11-08, 2017-11-09, 2017-11-10], Open = [0.42388, 0.42388, 0.42516, 0.42902, 0.43927, 0.44052, 0.45718, 0.45718, 0.44052, 0.43286  …  319.18, 320.23, 332.25, 300.13, 299.5, 307.0, 301.02, 305.5, 302.5, 302.5], High = [0.42902, 0.42516, 0.43668, 0.43157, 0.44052, 0.45589, 0.46357, 0.46103, 0.44566, 0.43668  …  323.78, 331.95, 332.609, 308.69, 306.25, 307.5, 306.5, 306.89, 304.46, 308.36], Low = [0.41874, 0.41366, 0.42516, 0.41618, 0.43927, 0.44052, 0.45718, 0.44052, 0.43157, 0.43286  …  317.25, 320.18, 320.26, 292.63, 295.13, 299.01, 300.03, 301.3, 296.3, 301.85], Close = [0.42388, 0.42134, 0.42902, 0.41618, 0.43927, 0.44566, 0.45718, 0.44052, 0.43157, 0.43286  …  320.08, 331.53, 321.08, 299.26, 306.09, 302.78, 306.05, 304.31, 302.99, 302.99], Volume = [23220030, 18022532, 42498199, 37125801, 57822062, 68847968, 53755262, 27136886, 29641922, 18453585  …  4254378, 5672347, 8457336, 19791416, 8893974, 6482486, 5286320, 4725510, 5440335, 4621912], OpenInt = [0, 0, 0, 0, 0, 0, 0, 0, 0, 0  …  0, 0, 0, 0, 0, 0, 0, 0, 0, 0])"
      ]
     },
     "execution_count": 43,
     "metadata": {},
     "output_type": "execute_result"
    }
   ],
   "source": [
    "columns(t)"
   ]
  },
  {
   "cell_type": "code",
   "execution_count": 44,
   "metadata": {
    "scrolled": false
   },
   "outputs": [
    {
     "data": {
      "text/plain": [
       "56023-element IndexedTables.Columns{NamedTuples._NT_Ticker_Date_Open_High_Low_Close_Volume_OpenInt{String,Date,Float64,Float64,Float64,Float64,Int64,Int64},NamedTuples._NT_Ticker_Date_Open_High_Low_Close_Volume_OpenInt{Array{String,1},Array{Date,1},Array{Float64,1},Array{Float64,1},Array{Float64,1},Array{Float64,1},Array{Int64,1},Array{Int64,1}}}:\n",
       " (Ticker = \"aapl.us.txt\", Date = 1984-09-07, Open = 0.42388, High = 0.42902, Low = 0.41874, Close = 0.42388, Volume = 23220030, OpenInt = 0)\n",
       " (Ticker = \"aapl.us.txt\", Date = 1984-09-10, Open = 0.42388, High = 0.42516, Low = 0.41366, Close = 0.42134, Volume = 18022532, OpenInt = 0)\n",
       " (Ticker = \"aapl.us.txt\", Date = 1984-09-11, Open = 0.42516, High = 0.43668, Low = 0.42516, Close = 0.42902, Volume = 42498199, OpenInt = 0)\n",
       " (Ticker = \"aapl.us.txt\", Date = 1984-09-12, Open = 0.42902, High = 0.43157, Low = 0.41618, Close = 0.41618, Volume = 37125801, OpenInt = 0)\n",
       " (Ticker = \"aapl.us.txt\", Date = 1984-09-13, Open = 0.43927, High = 0.44052, Low = 0.43927, Close = 0.43927, Volume = 57822062, OpenInt = 0)\n",
       " (Ticker = \"aapl.us.txt\", Date = 1984-09-14, Open = 0.44052, High = 0.45589, Low = 0.44052, Close = 0.44566, Volume = 68847968, OpenInt = 0)\n",
       " (Ticker = \"aapl.us.txt\", Date = 1984-09-17, Open = 0.45718, High = 0.46357, Low = 0.45718, Close = 0.45718, Volume = 53755262, OpenInt = 0)\n",
       " (Ticker = \"aapl.us.txt\", Date = 1984-09-18, Open = 0.45718, High = 0.46103, Low = 0.44052, Close = 0.44052, Volume = 27136886, OpenInt = 0)\n",
       " (Ticker = \"aapl.us.txt\", Date = 1984-09-19, Open = 0.44052, High = 0.44566, Low = 0.43157, Close = 0.43157, Volume = 29641922, OpenInt = 0)\n",
       " (Ticker = \"aapl.us.txt\", Date = 1984-09-20, Open = 0.43286, High = 0.43668, Low = 0.43286, Close = 0.43286, Volume = 18453585, OpenInt = 0)\n",
       " (Ticker = \"aapl.us.txt\", Date = 1984-09-21, Open = 0.43286, High = 0.44566, Low = 0.42388, Close = 0.42902, Volume = 27842780, OpenInt = 0)\n",
       " (Ticker = \"aapl.us.txt\", Date = 1984-09-24, Open = 0.42902, High = 0.43157, Low = 0.42516, Close = 0.42516, Volume = 22033109, OpenInt = 0)\n",
       " (Ticker = \"aapl.us.txt\", Date = 1984-09-25, Open = 0.42388, High = 0.42388, Low = 0.41618, Close = 0.41618, Volume = 46515020, OpenInt = 0)\n",
       " ⋮                                                                                                                                          \n",
       " (Ticker = \"tsla.us.txt\", Date = 2017-10-26, Open = 327.78, High = 330.23, Low = 323.2, Close = 326.17, Volume = 5012087, OpenInt = 0)      \n",
       " (Ticker = \"tsla.us.txt\", Date = 2017-10-27, Open = 319.75, High = 324.59, Low = 316.66, Close = 320.87, Volume = 6970118, OpenInt = 0)     \n",
       " (Ticker = \"tsla.us.txt\", Date = 2017-10-30, Open = 319.18, High = 323.78, Low = 317.25, Close = 320.08, Volume = 4254378, OpenInt = 0)     \n",
       " (Ticker = \"tsla.us.txt\", Date = 2017-10-31, Open = 320.23, High = 331.95, Low = 320.18, Close = 331.53, Volume = 5672347, OpenInt = 0)     \n",
       " (Ticker = \"tsla.us.txt\", Date = 2017-11-01, Open = 332.25, High = 332.609, Low = 320.26, Close = 321.08, Volume = 8457336, OpenInt = 0)    \n",
       " (Ticker = \"tsla.us.txt\", Date = 2017-11-02, Open = 300.13, High = 308.69, Low = 292.63, Close = 299.26, Volume = 19791416, OpenInt = 0)    \n",
       " (Ticker = \"tsla.us.txt\", Date = 2017-11-03, Open = 299.5, High = 306.25, Low = 295.13, Close = 306.09, Volume = 8893974, OpenInt = 0)      \n",
       " (Ticker = \"tsla.us.txt\", Date = 2017-11-06, Open = 307.0, High = 307.5, Low = 299.01, Close = 302.78, Volume = 6482486, OpenInt = 0)       \n",
       " (Ticker = \"tsla.us.txt\", Date = 2017-11-07, Open = 301.02, High = 306.5, Low = 300.03, Close = 306.05, Volume = 5286320, OpenInt = 0)      \n",
       " (Ticker = \"tsla.us.txt\", Date = 2017-11-08, Open = 305.5, High = 306.89, Low = 301.3, Close = 304.31, Volume = 4725510, OpenInt = 0)       \n",
       " (Ticker = \"tsla.us.txt\", Date = 2017-11-09, Open = 302.5, High = 304.46, Low = 296.3, Close = 302.99, Volume = 5440335, OpenInt = 0)       \n",
       " (Ticker = \"tsla.us.txt\", Date = 2017-11-10, Open = 302.5, High = 308.36, Low = 301.85, Close = 302.99, Volume = 4621912, OpenInt = 0)      "
      ]
     },
     "execution_count": 44,
     "metadata": {},
     "output_type": "execute_result"
    }
   ],
   "source": [
    "rows(t)"
   ]
  }
 ],
 "metadata": {
  "kernelspec": {
   "display_name": "Julia 0.6.2-pre",
   "language": "julia",
   "name": "julia-0.6"
  },
  "language_info": {
   "file_extension": ".jl",
   "mimetype": "application/julia",
   "name": "julia",
   "version": "0.6.2"
  }
 },
 "nbformat": 4,
 "nbformat_minor": 2
}
