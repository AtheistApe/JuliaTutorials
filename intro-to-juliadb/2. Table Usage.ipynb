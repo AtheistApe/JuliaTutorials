{
 "cells": [
  {
   "cell_type": "markdown",
   "metadata": {},
   "source": [
    "# `Table` Usage\n",
    "\n",
    "In this notebook we'll show common `Table` operations using the stock market data introduced in the previous notebook.  `NDSparse` operations are *nearly* identical, so we will focus on `Table`.  The functions we cover here are:\n",
    "\n",
    "1. `select`\n",
    "1. `filter`\n",
    "1. `map`\n",
    "1. `reduce`\n",
    "1. `groupreduce`\n",
    "1. `groupby`\n",
    "1. `summarize`\n",
    "1. `columns`/`rows`\n",
    "1. `join`\n",
    "1. `merge`\n",
    "\n",
    "### Documentation\n",
    "\n",
    "Each of the following functions has detailed inline documentation, accessed from a Julia REPL with `?select`, for example."
   ]
  },
  {
   "cell_type": "markdown",
   "metadata": {},
   "source": [
    "# Begin by loading data"
   ]
  },
  {
   "cell_type": "code",
   "execution_count": 1,
   "metadata": {},
   "outputs": [
    {
     "data": {
      "text/plain": [
       "Table with 56023 rows, 8 columns:\n",
       "\u001b[1mTicker         \u001b[22m\u001b[1mDate        \u001b[22mOpen     High     Low      Close    Volume    OpenInt\n",
       "────────────────────────────────────────────────────────────────────────────────\n",
       "\"aapl.us.txt\"  1984-09-07  0.42388  0.42902  0.41874  0.42388  23220030  0\n",
       "\"aapl.us.txt\"  1984-09-10  0.42388  0.42516  0.41366  0.42134  18022532  0\n",
       "\"aapl.us.txt\"  1984-09-11  0.42516  0.43668  0.42516  0.42902  42498199  0\n",
       "\"aapl.us.txt\"  1984-09-12  0.42902  0.43157  0.41618  0.41618  37125801  0\n",
       "\"aapl.us.txt\"  1984-09-13  0.43927  0.44052  0.43927  0.43927  57822062  0\n",
       "\"aapl.us.txt\"  1984-09-14  0.44052  0.45589  0.44052  0.44566  68847968  0\n",
       "\"aapl.us.txt\"  1984-09-17  0.45718  0.46357  0.45718  0.45718  53755262  0\n",
       "\"aapl.us.txt\"  1984-09-18  0.45718  0.46103  0.44052  0.44052  27136886  0\n",
       "\"aapl.us.txt\"  1984-09-19  0.44052  0.44566  0.43157  0.43157  29641922  0\n",
       "\"aapl.us.txt\"  1984-09-20  0.43286  0.43668  0.43286  0.43286  18453585  0\n",
       "\"aapl.us.txt\"  1984-09-21  0.43286  0.44566  0.42388  0.42902  27842780  0\n",
       "\"aapl.us.txt\"  1984-09-24  0.42902  0.43157  0.42516  0.42516  22033109  0\n",
       "⋮\n",
       "\"tsla.us.txt\"  2017-10-27  319.75   324.59   316.66   320.87   6970118   0\n",
       "\"tsla.us.txt\"  2017-10-30  319.18   323.78   317.25   320.08   4254378   0\n",
       "\"tsla.us.txt\"  2017-10-31  320.23   331.95   320.18   331.53   5672347   0\n",
       "\"tsla.us.txt\"  2017-11-01  332.25   332.609  320.26   321.08   8457336   0\n",
       "\"tsla.us.txt\"  2017-11-02  300.13   308.69   292.63   299.26   19791416  0\n",
       "\"tsla.us.txt\"  2017-11-03  299.5    306.25   295.13   306.09   8893974   0\n",
       "\"tsla.us.txt\"  2017-11-06  307.0    307.5    299.01   302.78   6482486   0\n",
       "\"tsla.us.txt\"  2017-11-07  301.02   306.5    300.03   306.05   5286320   0\n",
       "\"tsla.us.txt\"  2017-11-08  305.5    306.89   301.3    304.31   4725510   0\n",
       "\"tsla.us.txt\"  2017-11-09  302.5    304.46   296.3    302.99   5440335   0\n",
       "\"tsla.us.txt\"  2017-11-10  302.5    308.36   301.85   302.99   4621912   0"
      ]
     },
     "execution_count": 1,
     "metadata": {},
     "output_type": "execute_result"
    }
   ],
   "source": [
    "using JuliaDB\n",
    "\n",
    "IndexedTables.set_show_compact!(false)  # Force printing\n",
    "\n",
    "t = loadtable(\"stocksample\", filenamecol=:Ticker, indexcols=[:Ticker, :Date])"
   ]
  },
  {
   "cell_type": "markdown",
   "metadata": {},
   "source": [
    "# Return a subset of columns: \n",
    "## `select(table, selection)`\n",
    "\n",
    "### Note: Multiple selections are \"passed around\" as a `NamedTuple`\n",
    "\n",
    "Therefore, a function applied to multiple selections must accept a `NamedTuple` as its argument."
   ]
  },
  {
   "cell_type": "code",
   "execution_count": 2,
   "metadata": {
    "scrolled": false
   },
   "outputs": [
    {
     "data": {
      "text/plain": [
       "56023-element Array{Float64,1}:\n",
       "  0.01028\n",
       "  0.0115 \n",
       "  0.01152\n",
       "  0.01539\n",
       "  0.00125\n",
       "  0.01537\n",
       "  0.00639\n",
       "  0.02051\n",
       "  0.01409\n",
       "  0.00382\n",
       "  0.02178\n",
       "  0.00641\n",
       "  0.0077 \n",
       "  ⋮      \n",
       "  7.03   \n",
       "  7.93   \n",
       "  6.53   \n",
       " 11.77   \n",
       " 12.349  \n",
       " 16.06   \n",
       " 11.12   \n",
       "  8.49   \n",
       "  6.47   \n",
       "  5.59   \n",
       "  8.16   \n",
       "  6.51   "
      ]
     },
     "execution_count": 2,
     "metadata": {},
     "output_type": "execute_result"
    }
   ],
   "source": [
    "select(t, (:High, :Low) => row -> row.High - row.Low)"
   ]
  },
  {
   "cell_type": "markdown",
   "metadata": {},
   "source": [
    "# Return a subset of rows:\n",
    "## `filter(fun, table; selection)` \n",
    "\n",
    "Return rows for which `fun` returns true."
   ]
  },
  {
   "cell_type": "code",
   "execution_count": 55,
   "metadata": {},
   "outputs": [
    {
     "data": {
      "text/plain": [
       "Table with 5153 rows, 8 columns:\n",
       "\u001b[1mTicker         \u001b[22m\u001b[1mDate        \u001b[22mOpen     High     Low      Close    Volume    OpenInt\n",
       "────────────────────────────────────────────────────────────────────────────────\n",
       "\"amzn.us.txt\"  1997-05-16  1.97     1.98     1.71     1.73     14700000  0\n",
       "\"amzn.us.txt\"  1997-05-19  1.76     1.77     1.62     1.71     6106800   0\n",
       "\"amzn.us.txt\"  1997-05-20  1.73     1.75     1.64     1.64     5467200   0\n",
       "\"amzn.us.txt\"  1997-05-21  1.64     1.65     1.38     1.43     18853200  0\n",
       "\"amzn.us.txt\"  1997-05-22  1.44     1.45     1.31     1.4      11776800  0\n",
       "\"amzn.us.txt\"  1997-05-23  1.41     1.52     1.33     1.5      15937200  0\n",
       "\"amzn.us.txt\"  1997-05-27  1.51     1.65     1.46     1.58     8697600   0\n",
       "\"amzn.us.txt\"  1997-05-28  1.62     1.64     1.53     1.53     4574400   0\n",
       "\"amzn.us.txt\"  1997-05-29  1.54     1.54     1.48     1.51     3472800   0\n",
       "\"amzn.us.txt\"  1997-05-30  1.5      1.51     1.48     1.5      2594400   0\n",
       "\"amzn.us.txt\"  1997-06-02  1.51     1.53     1.5      1.51     591600    0\n",
       "\"amzn.us.txt\"  1997-06-03  1.53     1.53     1.48     1.48     1183200   0\n",
       "⋮\n",
       "\"amzn.us.txt\"  2017-10-27  1057.01  1105.58  1050.55  1100.95  16552598  0\n",
       "\"amzn.us.txt\"  2017-10-30  1095.01  1122.79  1093.56  1110.85  6613064   0\n",
       "\"amzn.us.txt\"  2017-10-31  1109.0   1110.54  1101.12  1105.28  3476967   0\n",
       "\"amzn.us.txt\"  2017-11-01  1105.4   1108.97  1096.74  1103.68  3755511   0\n",
       "\"amzn.us.txt\"  2017-11-02  1097.81  1101.94  1086.87  1094.22  3684876   0\n",
       "\"amzn.us.txt\"  2017-11-03  1091.15  1112.68  1088.52  1111.6   3751480   0\n",
       "\"amzn.us.txt\"  2017-11-06  1109.15  1125.41  1108.77  1120.66  3331738   0\n",
       "\"amzn.us.txt\"  2017-11-07  1124.74  1130.6   1117.5   1123.17  2684443   0\n",
       "\"amzn.us.txt\"  2017-11-08  1122.82  1135.54  1119.11  1132.88  2576010   0\n",
       "\"amzn.us.txt\"  2017-11-09  1125.96  1129.62  1115.77  1129.13  3729978   0\n",
       "\"amzn.us.txt\"  2017-11-10  1126.1   1131.75  1124.06  1125.35  2179181   0"
      ]
     },
     "execution_count": 55,
     "metadata": {},
     "output_type": "execute_result"
    }
   ],
   "source": [
    "filter(x -> x[1:4] == \"amzn\", t; select = :Ticker)"
   ]
  },
  {
   "cell_type": "markdown",
   "metadata": {},
   "source": [
    "# Apply a function to a selection:\n",
    "\n",
    "## `map(fun, table; select)`\n",
    "\n",
    "### Note: This is also achievable with `select`"
   ]
  },
  {
   "cell_type": "code",
   "execution_count": 4,
   "metadata": {},
   "outputs": [
    {
     "data": {
      "text/plain": [
       "true"
      ]
     },
     "execution_count": 4,
     "metadata": {},
     "output_type": "execute_result"
    }
   ],
   "source": [
    "map(first, t; select = :Ticker) == select(t, :Ticker => first)"
   ]
  },
  {
   "cell_type": "markdown",
   "metadata": {},
   "source": [
    "With no `select` keyword argument, each row will be passed to the map function."
   ]
  },
  {
   "cell_type": "code",
   "execution_count": 5,
   "metadata": {
    "scrolled": false
   },
   "outputs": [
    {
     "data": {
      "text/plain": [
       "56023-element Array{Float64,1}:\n",
       "  0.00514\n",
       "  0.00382\n",
       "  0.00766\n",
       "  0.01539\n",
       "  0.00125\n",
       "  0.01023\n",
       "  0.00639\n",
       "  0.02051\n",
       "  0.01409\n",
       "  0.00382\n",
       "  0.01664\n",
       "  0.00641\n",
       "  0.0077 \n",
       "  ⋮      \n",
       "  4.06   \n",
       "  3.72   \n",
       "  3.7    \n",
       "  0.42   \n",
       " 11.529  \n",
       "  9.43   \n",
       "  0.16   \n",
       "  4.72   \n",
       "  0.45   \n",
       "  2.58   \n",
       "  1.47   \n",
       "  5.37   "
      ]
     },
     "execution_count": 5,
     "metadata": {},
     "output_type": "execute_result"
    }
   ],
   "source": [
    "map(r -> r.High - r.Close, t)"
   ]
  },
  {
   "cell_type": "markdown",
   "metadata": {},
   "source": [
    "# `reduce`\n",
    "\n",
    "`reduce(reducer, table; select)`\n",
    "\n",
    "Apply `reducer` pair-wise on the selection.  For example, if a table is four rows long, `reduce(reducer, t)` is equivalent to\n",
    "\n",
    "```julia\n",
    "out = reducer(row1, row2)\n",
    "out = reducer(out, row3)\n",
    "out = reducer(out, row4)\n",
    "```\n",
    "\n",
    "In order to be meaningful, your `reducer` should have the associative property:\n",
    "\n",
    "$$(A + B) + C = A + (B + C)$$"
   ]
  },
  {
   "cell_type": "code",
   "execution_count": 6,
   "metadata": {},
   "outputs": [
    {
     "data": {
      "text/plain": [
       "1830996051150"
      ]
     },
     "execution_count": 6,
     "metadata": {},
     "output_type": "execute_result"
    }
   ],
   "source": [
    "reduce(+, t; select = :Volume)"
   ]
  },
  {
   "cell_type": "markdown",
   "metadata": {},
   "source": [
    "Reducing by a `NamedTuple` of selectors returns a `NamedTuple`:"
   ]
  },
  {
   "cell_type": "code",
   "execution_count": 7,
   "metadata": {},
   "outputs": [
    {
     "data": {
      "text/plain": [
       "(Volume_sum = 1830996051150, Close_sum = 3.9113906714000925e6)"
      ]
     },
     "execution_count": 7,
     "metadata": {},
     "output_type": "execute_result"
    }
   ],
   "source": [
    "reduce(@NT(:Volume_sum=:Volume => +, Close_sum=:Close => +), t)"
   ]
  },
  {
   "cell_type": "markdown",
   "metadata": {},
   "source": [
    "You can also `reduce` with estimators from OnlineStats:"
   ]
  },
  {
   "cell_type": "code",
   "execution_count": 8,
   "metadata": {},
   "outputs": [
    {
     "data": {
      "text/plain": [
       "\u001b[32m▦ Series{0}\u001b[39m\n",
       "│\u001b[32m EqualWeight | nobs=56023\u001b[39m\n",
       "└── Sum{Int64}(1830996051150)"
      ]
     },
     "execution_count": 8,
     "metadata": {},
     "output_type": "execute_result"
    }
   ],
   "source": [
    "using OnlineStats\n",
    "\n",
    "reduce(Sum(Int), t; select = :Volume)"
   ]
  },
  {
   "cell_type": "code",
   "execution_count": 9,
   "metadata": {},
   "outputs": [
    {
     "data": {
      "text/plain": [
       "\u001b[32m▦ Series{0}\u001b[39m\n",
       "│\u001b[32m EqualWeight | nobs=56023\u001b[39m\n",
       "└── Mean(69.8176)"
      ]
     },
     "execution_count": 9,
     "metadata": {},
     "output_type": "execute_result"
    }
   ],
   "source": [
    "using OnlineStats\n",
    "\n",
    "reduce(Mean(), t; select = :Close)"
   ]
  },
  {
   "cell_type": "markdown",
   "metadata": {},
   "source": [
    "# `groupreduce`\n",
    "\n",
    "`groupreduce(reducer, table, by; selection)`\n",
    "\n",
    "Apply a reducer within each group."
   ]
  },
  {
   "cell_type": "code",
   "execution_count": 10,
   "metadata": {
    "scrolled": true
   },
   "outputs": [
    {
     "data": {
      "text/plain": [
       "Table with 8 rows, 2 columns:\n",
       "\u001b[1mTicker          \u001b[22m+\n",
       "────────────────────────────\n",
       "\"aapl.us.txt\"   891950579821\n",
       "\"amzn.us.txt\"   40385735209\n",
       "\"dis.us.txt\"    85815802336\n",
       "\"googl.us.txt\"  26503128932\n",
       "\"ibm.us.txt\"    81302723803\n",
       "\"msft.us.txt\"   634313240042\n",
       "\"nflx.us.txt\"   62518969374\n",
       "\"tsla.us.txt\"   8205871633"
      ]
     },
     "execution_count": 10,
     "metadata": {},
     "output_type": "execute_result"
    }
   ],
   "source": [
    "groupreduce(+, t, :Ticker; select = :Volume)"
   ]
  },
  {
   "cell_type": "markdown",
   "metadata": {},
   "source": [
    "# `groupby`\n",
    "\n",
    "`groupby(fun, table [, by]; select, flatten)`\n",
    "\n",
    "Apply a function within each group."
   ]
  },
  {
   "cell_type": "code",
   "execution_count": 11,
   "metadata": {},
   "outputs": [
    {
     "data": {
      "text/plain": [
       "Table with 8 rows, 2 columns:\n",
       "\u001b[1mTicker          \u001b[22mmin_max\n",
       "─────────────────────────────────\n",
       "\"aapl.us.txt\"   (0.23051, 175.61)\n",
       "\"amzn.us.txt\"   (1.4, 1132.88)\n",
       "\"dis.us.txt\"    (0.28298, 118.24)\n",
       "\"googl.us.txt\"  (50.005, 1058.29)\n",
       "\"ibm.us.txt\"    (3.3901, 186.36)\n",
       "\"msft.us.txt\"   (0.0672, 84.56)\n",
       "\"nflx.us.txt\"   (1.29, 202.68)\n",
       "\"tsla.us.txt\"   (15.8, 385.0)"
      ]
     },
     "execution_count": 11,
     "metadata": {},
     "output_type": "execute_result"
    }
   ],
   "source": [
    "groupby(@NT(min_max = extrema), t, :Ticker; select = :Close)"
   ]
  },
  {
   "cell_type": "code",
   "execution_count": 12,
   "metadata": {},
   "outputs": [
    {
     "data": {
      "text/plain": [
       "Table with 8 rows, 2 columns:\n",
       "\u001b[1mTicker          \u001b[22mmean\n",
       "─────────────────────────\n",
       "\"aapl.us.txt\"   1.06642e8\n",
       "\"amzn.us.txt\"   7.83732e6\n",
       "\"dis.us.txt\"    7.10866e6\n",
       "\"googl.us.txt\"  7.95173e6\n",
       "\"ibm.us.txt\"    5.78297e6\n",
       "\"msft.us.txt\"   7.9458e7\n",
       "\"nflx.us.txt\"   1.95311e7\n",
       "\"tsla.us.txt\"   4.41651e6"
      ]
     },
     "execution_count": 12,
     "metadata": {},
     "output_type": "execute_result"
    }
   ],
   "source": [
    "groupby(mean, t, :Ticker; select = :Volume)"
   ]
  },
  {
   "cell_type": "markdown",
   "metadata": {},
   "source": [
    "# `summarize`\n",
    "\n",
    "`summarize(fun, table, by; select)`\n",
    "\n",
    "Apply a function (or functions) column-wise."
   ]
  },
  {
   "cell_type": "code",
   "execution_count": 13,
   "metadata": {
    "scrolled": true
   },
   "outputs": [
    {
     "data": {
      "text/plain": [
       "Table with 8 rows, 5 columns:\n",
       "\u001b[1mTicker          \u001b[22mOpen_mean  Close_mean  Open_std  Close_std\n",
       "──────────────────────────────────────────────────────────\n",
       "\"aapl.us.txt\"   22.2844    22.281      37.7634   37.7645\n",
       "\"amzn.us.txt\"   181.747    181.769     239.611   239.548\n",
       "\"dis.us.txt\"    20.6162    20.6212     26.4788   26.4787\n",
       "\"googl.us.txt\"  389.993    389.856     235.105   235.102\n",
       "\"ibm.us.txt\"    48.5355    48.5542     49.271    49.2977\n",
       "\"msft.us.txt\"   18.9779    18.9847     16.4161   16.424\n",
       "\"nflx.us.txt\"   39.5034    39.5213     47.5678   47.5733\n",
       "\"tsla.us.txt\"   150.39     150.355     107.072   107.024"
      ]
     },
     "execution_count": 13,
     "metadata": {},
     "output_type": "execute_result"
    }
   ],
   "source": [
    "summarize((mean, std), t, :Ticker; select = (:Open, :Close))"
   ]
  },
  {
   "cell_type": "markdown",
   "metadata": {},
   "source": [
    "# AoS and SoA\n",
    "\n",
    "Return the columns (struct of arrays) or rows (array of structs).\n",
    "\n",
    "`columns(t; selection)` and `rows(t; selection)`"
   ]
  },
  {
   "cell_type": "code",
   "execution_count": 14,
   "metadata": {},
   "outputs": [
    {
     "data": {
      "text/plain": [
       "(Ticker = String[\"aapl.us.txt\", \"aapl.us.txt\", \"aapl.us.txt\", \"aapl.us.txt\", \"aapl.us.txt\", \"aapl.us.txt\", \"aapl.us.txt\", \"aapl.us.txt\", \"aapl.us.txt\", \"aapl.us.txt\"  …  \"tsla.us.txt\", \"tsla.us.txt\", \"tsla.us.txt\", \"tsla.us.txt\", \"tsla.us.txt\", \"tsla.us.txt\", \"tsla.us.txt\", \"tsla.us.txt\", \"tsla.us.txt\", \"tsla.us.txt\"], Date = Date[1984-09-07, 1984-09-10, 1984-09-11, 1984-09-12, 1984-09-13, 1984-09-14, 1984-09-17, 1984-09-18, 1984-09-19, 1984-09-20  …  2017-10-30, 2017-10-31, 2017-11-01, 2017-11-02, 2017-11-03, 2017-11-06, 2017-11-07, 2017-11-08, 2017-11-09, 2017-11-10], Open = [0.42388, 0.42388, 0.42516, 0.42902, 0.43927, 0.44052, 0.45718, 0.45718, 0.44052, 0.43286  …  319.18, 320.23, 332.25, 300.13, 299.5, 307.0, 301.02, 305.5, 302.5, 302.5], High = [0.42902, 0.42516, 0.43668, 0.43157, 0.44052, 0.45589, 0.46357, 0.46103, 0.44566, 0.43668  …  323.78, 331.95, 332.609, 308.69, 306.25, 307.5, 306.5, 306.89, 304.46, 308.36], Low = [0.41874, 0.41366, 0.42516, 0.41618, 0.43927, 0.44052, 0.45718, 0.44052, 0.43157, 0.43286  …  317.25, 320.18, 320.26, 292.63, 295.13, 299.01, 300.03, 301.3, 296.3, 301.85], Close = [0.42388, 0.42134, 0.42902, 0.41618, 0.43927, 0.44566, 0.45718, 0.44052, 0.43157, 0.43286  …  320.08, 331.53, 321.08, 299.26, 306.09, 302.78, 306.05, 304.31, 302.99, 302.99], Volume = [23220030, 18022532, 42498199, 37125801, 57822062, 68847968, 53755262, 27136886, 29641922, 18453585  …  4254378, 5672347, 8457336, 19791416, 8893974, 6482486, 5286320, 4725510, 5440335, 4621912], OpenInt = [0, 0, 0, 0, 0, 0, 0, 0, 0, 0  …  0, 0, 0, 0, 0, 0, 0, 0, 0, 0])"
      ]
     },
     "execution_count": 14,
     "metadata": {},
     "output_type": "execute_result"
    }
   ],
   "source": [
    "# NamedTuple of Vectors\n",
    "columns(t)"
   ]
  },
  {
   "cell_type": "code",
   "execution_count": 15,
   "metadata": {
    "scrolled": false
   },
   "outputs": [
    {
     "data": {
      "text/plain": [
       "56023-element IndexedTables.Columns{NamedTuples._NT_Ticker_Date_Open_High_Low_Close_Volume_OpenInt{String,Date,Float64,Float64,Float64,Float64,Int64,Int64},NamedTuples._NT_Ticker_Date_Open_High_Low_Close_Volume_OpenInt{Array{String,1},Array{Date,1},Array{Float64,1},Array{Float64,1},Array{Float64,1},Array{Float64,1},Array{Int64,1},Array{Int64,1}}}:\n",
       " (Ticker = \"aapl.us.txt\", Date = 1984-09-07, Open = 0.42388, High = 0.42902, Low = 0.41874, Close = 0.42388, Volume = 23220030, OpenInt = 0)\n",
       " (Ticker = \"aapl.us.txt\", Date = 1984-09-10, Open = 0.42388, High = 0.42516, Low = 0.41366, Close = 0.42134, Volume = 18022532, OpenInt = 0)\n",
       " (Ticker = \"aapl.us.txt\", Date = 1984-09-11, Open = 0.42516, High = 0.43668, Low = 0.42516, Close = 0.42902, Volume = 42498199, OpenInt = 0)\n",
       " (Ticker = \"aapl.us.txt\", Date = 1984-09-12, Open = 0.42902, High = 0.43157, Low = 0.41618, Close = 0.41618, Volume = 37125801, OpenInt = 0)\n",
       " (Ticker = \"aapl.us.txt\", Date = 1984-09-13, Open = 0.43927, High = 0.44052, Low = 0.43927, Close = 0.43927, Volume = 57822062, OpenInt = 0)\n",
       " (Ticker = \"aapl.us.txt\", Date = 1984-09-14, Open = 0.44052, High = 0.45589, Low = 0.44052, Close = 0.44566, Volume = 68847968, OpenInt = 0)\n",
       " (Ticker = \"aapl.us.txt\", Date = 1984-09-17, Open = 0.45718, High = 0.46357, Low = 0.45718, Close = 0.45718, Volume = 53755262, OpenInt = 0)\n",
       " (Ticker = \"aapl.us.txt\", Date = 1984-09-18, Open = 0.45718, High = 0.46103, Low = 0.44052, Close = 0.44052, Volume = 27136886, OpenInt = 0)\n",
       " (Ticker = \"aapl.us.txt\", Date = 1984-09-19, Open = 0.44052, High = 0.44566, Low = 0.43157, Close = 0.43157, Volume = 29641922, OpenInt = 0)\n",
       " (Ticker = \"aapl.us.txt\", Date = 1984-09-20, Open = 0.43286, High = 0.43668, Low = 0.43286, Close = 0.43286, Volume = 18453585, OpenInt = 0)\n",
       " (Ticker = \"aapl.us.txt\", Date = 1984-09-21, Open = 0.43286, High = 0.44566, Low = 0.42388, Close = 0.42902, Volume = 27842780, OpenInt = 0)\n",
       " (Ticker = \"aapl.us.txt\", Date = 1984-09-24, Open = 0.42902, High = 0.43157, Low = 0.42516, Close = 0.42516, Volume = 22033109, OpenInt = 0)\n",
       " (Ticker = \"aapl.us.txt\", Date = 1984-09-25, Open = 0.42388, High = 0.42388, Low = 0.41618, Close = 0.41618, Volume = 46515020, OpenInt = 0)\n",
       " ⋮                                                                                                                                          \n",
       " (Ticker = \"tsla.us.txt\", Date = 2017-10-26, Open = 327.78, High = 330.23, Low = 323.2, Close = 326.17, Volume = 5012087, OpenInt = 0)      \n",
       " (Ticker = \"tsla.us.txt\", Date = 2017-10-27, Open = 319.75, High = 324.59, Low = 316.66, Close = 320.87, Volume = 6970118, OpenInt = 0)     \n",
       " (Ticker = \"tsla.us.txt\", Date = 2017-10-30, Open = 319.18, High = 323.78, Low = 317.25, Close = 320.08, Volume = 4254378, OpenInt = 0)     \n",
       " (Ticker = \"tsla.us.txt\", Date = 2017-10-31, Open = 320.23, High = 331.95, Low = 320.18, Close = 331.53, Volume = 5672347, OpenInt = 0)     \n",
       " (Ticker = \"tsla.us.txt\", Date = 2017-11-01, Open = 332.25, High = 332.609, Low = 320.26, Close = 321.08, Volume = 8457336, OpenInt = 0)    \n",
       " (Ticker = \"tsla.us.txt\", Date = 2017-11-02, Open = 300.13, High = 308.69, Low = 292.63, Close = 299.26, Volume = 19791416, OpenInt = 0)    \n",
       " (Ticker = \"tsla.us.txt\", Date = 2017-11-03, Open = 299.5, High = 306.25, Low = 295.13, Close = 306.09, Volume = 8893974, OpenInt = 0)      \n",
       " (Ticker = \"tsla.us.txt\", Date = 2017-11-06, Open = 307.0, High = 307.5, Low = 299.01, Close = 302.78, Volume = 6482486, OpenInt = 0)       \n",
       " (Ticker = \"tsla.us.txt\", Date = 2017-11-07, Open = 301.02, High = 306.5, Low = 300.03, Close = 306.05, Volume = 5286320, OpenInt = 0)      \n",
       " (Ticker = \"tsla.us.txt\", Date = 2017-11-08, Open = 305.5, High = 306.89, Low = 301.3, Close = 304.31, Volume = 4725510, OpenInt = 0)       \n",
       " (Ticker = \"tsla.us.txt\", Date = 2017-11-09, Open = 302.5, High = 304.46, Low = 296.3, Close = 302.99, Volume = 5440335, OpenInt = 0)       \n",
       " (Ticker = \"tsla.us.txt\", Date = 2017-11-10, Open = 302.5, High = 308.36, Low = 301.85, Close = 302.99, Volume = 4621912, OpenInt = 0)      "
      ]
     },
     "execution_count": 15,
     "metadata": {},
     "output_type": "execute_result"
    }
   ],
   "source": [
    "# Vector of NamedTuples\n",
    "rows(t)"
   ]
  },
  {
   "cell_type": "markdown",
   "metadata": {},
   "source": [
    "# Joins\n",
    "\n",
    "`join(left, right; how, <options>)`\n",
    "\n",
    "Join tables together based on matching keys.\n",
    "\n",
    "- `how`: `:inner`, `:left`, `:outer`, or`:anti`\n",
    "- `<options>`: `rkey`, `lkey` (default to indexed variable), `rselect`, `lselect`"
   ]
  },
  {
   "cell_type": "code",
   "execution_count": 91,
   "metadata": {},
   "outputs": [
    {
     "data": {
      "text/plain": [
       "Table with 5 rows, 2 columns:\n",
       "\u001b[1mx  \u001b[22my\n",
       "────────────\n",
       "1  0.2506\n",
       "2  0.386636\n",
       "3  0.0997082\n",
       "4  0.822777\n",
       "5  0.838759"
      ]
     },
     "execution_count": 91,
     "metadata": {},
     "output_type": "execute_result"
    }
   ],
   "source": [
    "t1 = table(@NT(x=1:5, y = rand(5)); pkey = :x)"
   ]
  },
  {
   "cell_type": "code",
   "execution_count": 92,
   "metadata": {},
   "outputs": [
    {
     "data": {
      "text/plain": [
       "Table with 5 rows, 2 columns:\n",
       "\u001b[1mx  \u001b[22mz\n",
       "───────────\n",
       "3  0.978899\n",
       "4  0.242955\n",
       "5  0.265189\n",
       "6  0.33245\n",
       "7  0.181994"
      ]
     },
     "execution_count": 92,
     "metadata": {},
     "output_type": "execute_result"
    }
   ],
   "source": [
    "t2 = table(@NT(x=3:7, z = rand(5)); pkey = :x)"
   ]
  },
  {
   "cell_type": "code",
   "execution_count": 90,
   "metadata": {},
   "outputs": [
    {
     "data": {
      "text/plain": [
       "Table with 3 rows, 3 columns:\n",
       "\u001b[1mx  \u001b[22my         z\n",
       "─────────────────────\n",
       "3  0.324442  0.777213\n",
       "4  0.419527  0.834083\n",
       "5  0.796445  0.559861"
      ]
     },
     "execution_count": 90,
     "metadata": {},
     "output_type": "execute_result"
    }
   ],
   "source": [
    "# try :inner, :outer, :left\n",
    "tjoin = join(t1, t2; how = :inner)"
   ]
  },
  {
   "cell_type": "markdown",
   "metadata": {},
   "source": [
    "# Merging\n",
    "\n",
    "A `merge` results in a table that is still ordered by the primary key(s)."
   ]
  },
  {
   "cell_type": "code",
   "execution_count": 94,
   "metadata": {},
   "outputs": [
    {
     "data": {
      "text/plain": [
       "Table with 5 rows, 2 columns:\n",
       "\u001b[1mx         \u001b[22my\n",
       "───────────────────\n",
       "0.428266  -0.669153\n",
       "0.442316  0.554751\n",
       "0.815157  1.241\n",
       "0.942508  -0.437445\n",
       "0.951336  1.64855"
      ]
     },
     "execution_count": 94,
     "metadata": {},
     "output_type": "execute_result"
    }
   ],
   "source": [
    "t1 = table(@NT(x=rand(5), y = randn(5)), pkey = :x)"
   ]
  },
  {
   "cell_type": "code",
   "execution_count": 95,
   "metadata": {},
   "outputs": [
    {
     "data": {
      "text/plain": [
       "Table with 5 rows, 2 columns:\n",
       "\u001b[1mx         \u001b[22my\n",
       "────────────────────\n",
       "0.306015  -0.875444\n",
       "0.393352  -0.567882\n",
       "0.798625  -1.06793\n",
       "0.969845  -0.0149464\n",
       "0.986298  -0.493919"
      ]
     },
     "execution_count": 95,
     "metadata": {},
     "output_type": "execute_result"
    }
   ],
   "source": [
    "t2 = table(@NT(x=rand(5), y = randn(5)), pkey = :x)"
   ]
  },
  {
   "cell_type": "code",
   "execution_count": 96,
   "metadata": {},
   "outputs": [
    {
     "data": {
      "text/plain": [
       "Table with 10 rows, 2 columns:\n",
       "\u001b[1mx         \u001b[22my\n",
       "────────────────────\n",
       "0.306015  -0.875444\n",
       "0.393352  -0.567882\n",
       "0.428266  -0.669153\n",
       "0.442316  0.554751\n",
       "0.798625  -1.06793\n",
       "0.815157  1.241\n",
       "0.942508  -0.437445\n",
       "0.951336  1.64855\n",
       "0.969845  -0.0149464\n",
       "0.986298  -0.493919"
      ]
     },
     "execution_count": 96,
     "metadata": {},
     "output_type": "execute_result"
    }
   ],
   "source": [
    "merge(t1, t2)"
   ]
  }
 ],
 "metadata": {
  "kernelspec": {
   "display_name": "Julia 0.6.2-pre",
   "language": "julia",
   "name": "julia-0.6"
  },
  "language_info": {
   "file_extension": ".jl",
   "mimetype": "application/julia",
   "name": "julia",
   "version": "0.6.2"
  }
 },
 "nbformat": 4,
 "nbformat_minor": 2
}
