{
 "cells": [
  {
   "cell_type": "markdown",
   "metadata": {},
   "source": [
    "# Quick Intro to OnlineStats\n",
    "\n",
    "- OnlineStats runs algorithms for statistics both on-line and in parallel."
   ]
  },
  {
   "cell_type": "code",
   "execution_count": 1,
   "metadata": {},
   "outputs": [],
   "source": [
    "addprocs()\n",
    "using OnlineStats"
   ]
  },
  {
   "cell_type": "markdown",
   "metadata": {},
   "source": [
    "## Every stat is a type"
   ]
  },
  {
   "cell_type": "code",
   "execution_count": 2,
   "metadata": {},
   "outputs": [
    {
     "data": {
      "text/plain": [
       "(Mean(0.0), Variance(0.0))"
      ]
     },
     "execution_count": 2,
     "metadata": {},
     "output_type": "execute_result"
    }
   ],
   "source": [
    "m, v = Mean(), Variance()"
   ]
  },
  {
   "cell_type": "markdown",
   "metadata": {},
   "source": [
    "## Stats are collected in a `Series`"
   ]
  },
  {
   "cell_type": "code",
   "execution_count": 3,
   "metadata": {
    "scrolled": true
   },
   "outputs": [
    {
     "data": {
      "text/plain": [
       "\u001b[32m▦ Series{0}\u001b[39m\n",
       "│\u001b[32m EqualWeight | nobs=0\u001b[39m\n",
       "├── Mean(0.0)\n",
       "└── Variance(0.0)"
      ]
     },
     "execution_count": 3,
     "metadata": {},
     "output_type": "execute_result"
    }
   ],
   "source": [
    "s = Series(m, v)"
   ]
  },
  {
   "cell_type": "markdown",
   "metadata": {},
   "source": [
    "## A `Series` can be `fit!`-ted with more data"
   ]
  },
  {
   "cell_type": "code",
   "execution_count": 4,
   "metadata": {},
   "outputs": [
    {
     "data": {
      "text/plain": [
       "\u001b[32m▦ Series{0}\u001b[39m\n",
       "│\u001b[32m EqualWeight | nobs=100\u001b[39m\n",
       "├── Mean(-0.233069)\n",
       "└── Variance(0.878082)"
      ]
     },
     "execution_count": 4,
     "metadata": {},
     "output_type": "execute_result"
    }
   ],
   "source": [
    "fit!(s, randn(100))"
   ]
  },
  {
   "cell_type": "markdown",
   "metadata": {},
   "source": [
    "## `Series` can be merged together"
   ]
  },
  {
   "cell_type": "code",
   "execution_count": 5,
   "metadata": {},
   "outputs": [
    {
     "data": {
      "text/plain": [
       "\u001b[32m▦ Series{0}\u001b[39m\n",
       "│\u001b[32m EqualWeight | nobs=200\u001b[39m\n",
       "├── Mean(-0.169194)\n",
       "└── Variance(1.03277)"
      ]
     },
     "execution_count": 5,
     "metadata": {},
     "output_type": "execute_result"
    }
   ],
   "source": [
    "s2 = Series(randn(100), Mean(), Variance())\n",
    "merge!(s, s2)"
   ]
  },
  {
   "cell_type": "markdown",
   "metadata": {},
   "source": [
    "# `fit!`-ting and `merge!`-ing works quite well alongside JuliaDB\n",
    "\n",
    "<img src=\"https://user-images.githubusercontent.com/8075494/32748459-519986e8-c88a-11e7-89b3-80dedf7f261b.png\" width=400>"
   ]
  },
  {
   "cell_type": "markdown",
   "metadata": {},
   "source": [
    "# Jump into an Example\n",
    "\n",
    "- OnlineStats integration is available through the `reduce` and `groupreduce` functions."
   ]
  },
  {
   "cell_type": "code",
   "execution_count": 24,
   "metadata": {},
   "outputs": [
    {
     "name": "stdout",
     "output_type": "stream",
     "text": [
      "aapl.us.txt\n",
      "amzn.us.txt\n",
      "dis.us.txt\n",
      "googl.us.txt\n",
      "ibm.us.txt\n",
      "msft.us.txt\n",
      "nflx.us.txt\n",
      "tsla.us.txt\n"
     ]
    }
   ],
   "source": [
    ";ls stocksample"
   ]
  },
  {
   "cell_type": "code",
   "execution_count": 7,
   "metadata": {
    "scrolled": true
   },
   "outputs": [
    {
     "data": {
      "text/plain": [
       "Distributed Table with 56023 rows in 8 chunks:\n",
       "Columns:\n",
       "\u001b[1m#  \u001b[22m\u001b[1mcolname  \u001b[22m\u001b[1mtype\u001b[22m\n",
       "───────────────────\n",
       "1  Ticker   String\n",
       "2  Date     Date\n",
       "3  Open     Float64\n",
       "4  High     Float64\n",
       "5  Low      Float64\n",
       "6  Close    Float64\n",
       "7  Volume   Int64\n",
       "8  OpenInt  Int64"
      ]
     },
     "execution_count": 7,
     "metadata": {},
     "output_type": "execute_result"
    }
   ],
   "source": [
    "using JuliaDB\n",
    "t = loadtable(\"stocksample\", filenamecol = :Ticker, indexcols = [:Ticker, :Date])"
   ]
  }
 ],
 "metadata": {
  "kernelspec": {
   "display_name": "Julia 0.6.2-pre",
   "language": "julia",
   "name": "julia-0.6"
  },
  "language_info": {
   "file_extension": ".jl",
   "mimetype": "application/julia",
   "name": "julia",
   "version": "0.6.2"
  }
 },
 "nbformat": 4,
 "nbformat_minor": 2
}
