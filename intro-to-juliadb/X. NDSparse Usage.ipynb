{
 "cells": [
  {
   "cell_type": "markdown",
   "metadata": {},
   "source": [
    "# `NDSparse` Usage\n",
    "\n",
    "The purpose of this section is to show you how to use the methods associated with `NDSparse` objects. If you've already worked through the section on `Table` Usage, this notebook will seem very familiar!\n",
    "\n",
    "Let's get started by loading `JuliaDB` and editing our default settings so that `table`s will display their entries."
   ]
  },
  {
   "cell_type": "code",
   "execution_count": null,
   "metadata": {
    "collapsed": true
   },
   "outputs": [],
   "source": [
    "using JuliaDB\n",
    "\n",
    "IndexedTables.set_show_compact!(false)  # Force print"
   ]
  },
  {
   "cell_type": "markdown",
   "metadata": {},
   "source": [
    "`loadndsparse` is an analog to `loadtable`:"
   ]
  },
  {
   "cell_type": "code",
   "execution_count": 1,
   "metadata": {},
   "outputs": [
    {
     "data": {
      "text/plain": [
       "2-d NDSparse with 56023 values (6 field named tuples):\n",
       "Ticker         Date       │ Open     High     Low      Close    Volume    OpenInt\n",
       "──────────────────────────┼──────────────────────────────────────────────────────\n",
       "\"aapl.us.txt\"  1984-09-07 │ 0.42388  0.42902  0.41874  0.42388  23220030  0\n",
       "\"aapl.us.txt\"  1984-09-10 │ 0.42388  0.42516  0.41366  0.42134  18022532  0\n",
       "\"aapl.us.txt\"  1984-09-11 │ 0.42516  0.43668  0.42516  0.42902  42498199  0\n",
       "\"aapl.us.txt\"  1984-09-12 │ 0.42902  0.43157  0.41618  0.41618  37125801  0\n",
       "\"aapl.us.txt\"  1984-09-13 │ 0.43927  0.44052  0.43927  0.43927  57822062  0\n",
       "\"aapl.us.txt\"  1984-09-14 │ 0.44052  0.45589  0.44052  0.44566  68847968  0\n",
       "\"aapl.us.txt\"  1984-09-17 │ 0.45718  0.46357  0.45718  0.45718  53755262  0\n",
       "\"aapl.us.txt\"  1984-09-18 │ 0.45718  0.46103  0.44052  0.44052  27136886  0\n",
       "\"aapl.us.txt\"  1984-09-19 │ 0.44052  0.44566  0.43157  0.43157  29641922  0\n",
       "\"aapl.us.txt\"  1984-09-20 │ 0.43286  0.43668  0.43286  0.43286  18453585  0\n",
       "\"aapl.us.txt\"  1984-09-21 │ 0.43286  0.44566  0.42388  0.42902  27842780  0\n",
       "\"aapl.us.txt\"  1984-09-24 │ 0.42902  0.43157  0.42516  0.42516  22033109  0\n",
       "                          ⋮\n",
       "\"tsla.us.txt\"  2017-10-27 │ 319.75   324.59   316.66   320.87   6970118   0\n",
       "\"tsla.us.txt\"  2017-10-30 │ 319.18   323.78   317.25   320.08   4254378   0\n",
       "\"tsla.us.txt\"  2017-10-31 │ 320.23   331.95   320.18   331.53   5672347   0\n",
       "\"tsla.us.txt\"  2017-11-01 │ 332.25   332.609  320.26   321.08   8457336   0\n",
       "\"tsla.us.txt\"  2017-11-02 │ 300.13   308.69   292.63   299.26   19791416  0\n",
       "\"tsla.us.txt\"  2017-11-03 │ 299.5    306.25   295.13   306.09   8893974   0\n",
       "\"tsla.us.txt\"  2017-11-06 │ 307.0    307.5    299.01   302.78   6482486   0\n",
       "\"tsla.us.txt\"  2017-11-07 │ 301.02   306.5    300.03   306.05   5286320   0\n",
       "\"tsla.us.txt\"  2017-11-08 │ 305.5    306.89   301.3    304.31   4725510   0\n",
       "\"tsla.us.txt\"  2017-11-09 │ 302.5    304.46   296.3    302.99   5440335   0\n",
       "\"tsla.us.txt\"  2017-11-10 │ 302.5    308.36   301.85   302.99   4621912   0"
      ]
     },
     "execution_count": 1,
     "metadata": {},
     "output_type": "execute_result"
    }
   ],
   "source": [
    "nd = loadndsparse(\"stocksample\", filenamecol = :Ticker, indexcols = [:Ticker, :Date])"
   ]
  },
  {
   "cell_type": "markdown",
   "metadata": {},
   "source": [
    "Having made `Ticker` and `Date` the columns by which we index entries to `nd`, we can perform a lookup in `nd` via"
   ]
  },
  {
   "cell_type": "code",
   "execution_count": 7,
   "metadata": {
    "scrolled": true
   },
   "outputs": [
    {
     "data": {
      "text/plain": [
       "(Open = 0.38289, High = 0.39186, Low = 0.37906, Close = 0.38164, Volume = 31191161, OpenInt = 0)"
      ]
     },
     "execution_count": 7,
     "metadata": {},
     "output_type": "execute_result"
    }
   ],
   "source": [
    "nd[\"aapl.us.txt\", Date(1986, 2, 10)]"
   ]
  },
  {
   "cell_type": "markdown",
   "metadata": {},
   "source": [
    "# `selectkeys` and `selectvalues`"
   ]
  },
  {
   "cell_type": "markdown",
   "metadata": {},
   "source": [
    "The syntax for `selectvalues` for `NDSparse` objects is the same as that of `select` for `Table`s:\n",
    "\n",
    "```julia\n",
    "selectvalues(tablename, selection)\n",
    "```\n",
    "\n",
    "In the next example, we generate a `NDSparse` object that contains two indexable columns (`Ticker` and `Date`) and one column of selected values, `Close`:"
   ]
  },
  {
   "cell_type": "code",
   "execution_count": 27,
   "metadata": {},
   "outputs": [
    {
     "data": {
      "text/plain": [
       "2-d NDSparse with 56023 values (Float64):\n",
       "Ticker         Date       │\n",
       "──────────────────────────┼────────\n",
       "\"aapl.us.txt\"  1984-09-07 │ 0.42388\n",
       "\"aapl.us.txt\"  1984-09-10 │ 0.42134\n",
       "\"aapl.us.txt\"  1984-09-11 │ 0.42902\n",
       "\"aapl.us.txt\"  1984-09-12 │ 0.41618\n",
       "\"aapl.us.txt\"  1984-09-13 │ 0.43927\n",
       "\"aapl.us.txt\"  1984-09-14 │ 0.44566\n",
       "\"aapl.us.txt\"  1984-09-17 │ 0.45718\n",
       "\"aapl.us.txt\"  1984-09-18 │ 0.44052\n",
       "\"aapl.us.txt\"  1984-09-19 │ 0.43157\n",
       "\"aapl.us.txt\"  1984-09-20 │ 0.43286\n",
       "\"aapl.us.txt\"  1984-09-21 │ 0.42902\n",
       "\"aapl.us.txt\"  1984-09-24 │ 0.42516\n",
       "                          ⋮\n",
       "\"tsla.us.txt\"  2017-10-27 │ 320.87\n",
       "\"tsla.us.txt\"  2017-10-30 │ 320.08\n",
       "\"tsla.us.txt\"  2017-10-31 │ 331.53\n",
       "\"tsla.us.txt\"  2017-11-01 │ 321.08\n",
       "\"tsla.us.txt\"  2017-11-02 │ 299.26\n",
       "\"tsla.us.txt\"  2017-11-03 │ 306.09\n",
       "\"tsla.us.txt\"  2017-11-06 │ 302.78\n",
       "\"tsla.us.txt\"  2017-11-07 │ 306.05\n",
       "\"tsla.us.txt\"  2017-11-08 │ 304.31\n",
       "\"tsla.us.txt\"  2017-11-09 │ 302.99\n",
       "\"tsla.us.txt\"  2017-11-10 │ 302.99"
      ]
     },
     "execution_count": 27,
     "metadata": {},
     "output_type": "execute_result"
    }
   ],
   "source": [
    "selectvalues(nd, :Close)"
   ]
  },
  {
   "cell_type": "markdown",
   "metadata": {},
   "source": [
    "# `map`\n",
    "\n",
    "The syntax for `map` is the same for `Table` and `NDSparse` objects:\n",
    "```julia\n",
    "map(fun, tablename; select)\n",
    "```"
   ]
  },
  {
   "cell_type": "code",
   "execution_count": 55,
   "metadata": {},
   "outputs": [
    {
     "data": {
      "text/plain": [
       "2-d NDSparse with 56023 values (Float64):\n",
       "Ticker         Date       │\n",
       "──────────────────────────┼────────\n",
       "\"aapl.us.txt\"  1984-09-07 │ 0.01028\n",
       "\"aapl.us.txt\"  1984-09-10 │ 0.0115\n",
       "\"aapl.us.txt\"  1984-09-11 │ 0.01152\n",
       "\"aapl.us.txt\"  1984-09-12 │ 0.01539\n",
       "\"aapl.us.txt\"  1984-09-13 │ 0.00125\n",
       "\"aapl.us.txt\"  1984-09-14 │ 0.01537\n",
       "\"aapl.us.txt\"  1984-09-17 │ 0.00639\n",
       "\"aapl.us.txt\"  1984-09-18 │ 0.02051\n",
       "\"aapl.us.txt\"  1984-09-19 │ 0.01409\n",
       "\"aapl.us.txt\"  1984-09-20 │ 0.00382\n",
       "\"aapl.us.txt\"  1984-09-21 │ 0.02178\n",
       "\"aapl.us.txt\"  1984-09-24 │ 0.00641\n",
       "                          ⋮\n",
       "\"tsla.us.txt\"  2017-10-27 │ 7.93\n",
       "\"tsla.us.txt\"  2017-10-30 │ 6.53\n",
       "\"tsla.us.txt\"  2017-10-31 │ 11.77\n",
       "\"tsla.us.txt\"  2017-11-01 │ 12.349\n",
       "\"tsla.us.txt\"  2017-11-02 │ 16.06\n",
       "\"tsla.us.txt\"  2017-11-03 │ 11.12\n",
       "\"tsla.us.txt\"  2017-11-06 │ 8.49\n",
       "\"tsla.us.txt\"  2017-11-07 │ 6.47\n",
       "\"tsla.us.txt\"  2017-11-08 │ 5.59\n",
       "\"tsla.us.txt\"  2017-11-09 │ 8.16\n",
       "\"tsla.us.txt\"  2017-11-10 │ 6.51"
      ]
     },
     "execution_count": 55,
     "metadata": {},
     "output_type": "execute_result"
    }
   ],
   "source": [
    "map(r -> r.High - r.Low, nd; select = (:High, :Low))"
   ]
  },
  {
   "cell_type": "markdown",
   "metadata": {},
   "source": [
    "# `filter`\n",
    "\n",
    "The syntax for `filter` is the same for Table and NDSparse objects:\n",
    "\n",
    "```julia\n",
    "filter(fun, tablename)\n",
    "```\n",
    "\n",
    "In the following example, we filter `nd` to create a new `NDSparse` object that only contains days/stocks that increased in value:"
   ]
  },
  {
   "cell_type": "code",
   "execution_count": 29,
   "metadata": {},
   "outputs": [
    {
     "data": {
      "text/plain": [
       "2-d NDSparse with 26302 values (6 field named tuples):\n",
       "    \u001b[4mDimensions\n",
       "\u001b[24m\u001b[1m#  \u001b[22m\u001b[1mcolname  \u001b[22m\u001b[1mtype\u001b[22m\n",
       "────────────────\n",
       "1  Ticker   Any\n",
       "2  Date     Any\n",
       "    \u001b[4mValues\n",
       "\u001b[24m\u001b[1m#  \u001b[22m\u001b[1mcolname  \u001b[22m\u001b[1mtype\u001b[22m\n",
       "───────────────────\n",
       "3  Open     Float64\n",
       "4  High     Float64\n",
       "5  Low      Float64\n",
       "6  Close    Float64\n",
       "7  Volume   Int64\n",
       "8  OpenInt  Int64"
      ]
     },
     "execution_count": 29,
     "metadata": {},
     "output_type": "execute_result"
    }
   ],
   "source": [
    "filter(r -> r.Open < r.Close, nd)"
   ]
  },
  {
   "cell_type": "markdown",
   "metadata": {},
   "source": [
    "# `reduce` and `groupreduce`\n",
    "\n",
    "Syntax:\n",
    "```julia\n",
    "groupreduce(reducer, tablename; kws)\n",
    "```"
   ]
  },
  {
   "cell_type": "code",
   "execution_count": 56,
   "metadata": {},
   "outputs": [
    {
     "data": {
      "text/plain": [
       "1-d NDSparse with 8 values (Int64):\n",
       "Ticker         │\n",
       "───────────────┼─────────────\n",
       "\"aapl.us.txt\"  │ 891950579821\n",
       "\"amzn.us.txt\"  │ 40385735209\n",
       "\"dis.us.txt\"   │ 85815802336\n",
       "\"googl.us.txt\" │ 26503128932\n",
       "\"ibm.us.txt\"   │ 81302723803\n",
       "\"msft.us.txt\"  │ 634313240042\n",
       "\"nflx.us.txt\"  │ 62518969374\n",
       "\"tsla.us.txt\"  │ 8205871633"
      ]
     },
     "execution_count": 56,
     "metadata": {},
     "output_type": "execute_result"
    }
   ],
   "source": [
    "groupreduce(+, nd, :Ticker; select = :Volume)"
   ]
  },
  {
   "cell_type": "markdown",
   "metadata": {},
   "source": [
    "# `groupby`\n",
    "\n",
    "Syntax:\n",
    "```julia\n",
    "groupby(fun, tablename [, by]; select, flatten)\n",
    "```"
   ]
  },
  {
   "cell_type": "code",
   "execution_count": 60,
   "metadata": {},
   "outputs": [
    {
     "data": {
      "text/plain": [
       "1-d NDSparse with 8 values (2-tuples):\n",
       "Ticker         │ 2        3\n",
       "───────────────┼─────────────────\n",
       "\"aapl.us.txt\"  │ 0.23051  175.61\n",
       "\"amzn.us.txt\"  │ 1.4      1132.88\n",
       "\"dis.us.txt\"   │ 0.28298  118.24\n",
       "\"googl.us.txt\" │ 50.005   1058.29\n",
       "\"ibm.us.txt\"   │ 3.3901   186.36\n",
       "\"msft.us.txt\"  │ 0.0672   84.56\n",
       "\"nflx.us.txt\"  │ 1.29     202.68\n",
       "\"tsla.us.txt\"  │ 15.8     385.0"
      ]
     },
     "execution_count": 60,
     "metadata": {},
     "output_type": "execute_result"
    }
   ],
   "source": [
    "groupby(extrema, nd, :Ticker; select = :Close)"
   ]
  },
  {
   "cell_type": "markdown",
   "metadata": {},
   "source": [
    "# `summarize`\n",
    "\n",
    "Syntax:\n",
    "```julia\n",
    "summarize(fun, table, by; select)\n",
    "```"
   ]
  },
  {
   "cell_type": "code",
   "execution_count": 61,
   "metadata": {},
   "outputs": [
    {
     "data": {
      "text/plain": [
       "1-d NDSparse with 8 values (4 field named tuples):\n",
       "Ticker         │ Open_mean  Close_mean  Open_std  Close_std\n",
       "───────────────┼───────────────────────────────────────────\n",
       "\"aapl.us.txt\"  │ 22.2844    22.281      37.7634   37.7645\n",
       "\"amzn.us.txt\"  │ 181.747    181.769     239.611   239.548\n",
       "\"dis.us.txt\"   │ 20.6162    20.6212     26.4788   26.4787\n",
       "\"googl.us.txt\" │ 389.993    389.856     235.105   235.102\n",
       "\"ibm.us.txt\"   │ 48.5355    48.5542     49.271    49.2977\n",
       "\"msft.us.txt\"  │ 18.9779    18.9847     16.4161   16.424\n",
       "\"nflx.us.txt\"  │ 39.5034    39.5213     47.5678   47.5733\n",
       "\"tsla.us.txt\"  │ 150.39     150.355     107.072   107.024"
      ]
     },
     "execution_count": 61,
     "metadata": {},
     "output_type": "execute_result"
    }
   ],
   "source": [
    "summarize((mean, std), nd, :Ticker; select = (:Open, :Close))"
   ]
  },
  {
   "cell_type": "markdown",
   "metadata": {},
   "source": [
    "# `columns` and `rows`\n",
    "\n",
    "- Same as for `Table`"
   ]
  }
 ],
 "metadata": {
  "kernelspec": {
   "display_name": "Julia 0.6.0",
   "language": "julia",
   "name": "julia-0.6"
  },
  "language_info": {
   "file_extension": ".jl",
   "mimetype": "application/julia",
   "name": "julia",
   "version": "0.6.0"
  }
 },
 "nbformat": 4,
 "nbformat_minor": 2
}
